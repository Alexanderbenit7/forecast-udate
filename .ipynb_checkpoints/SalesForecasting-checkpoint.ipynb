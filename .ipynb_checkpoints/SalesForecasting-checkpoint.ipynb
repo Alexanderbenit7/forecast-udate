{
 "cells": [
  {
   "cell_type": "markdown",
   "id": "6a199a4d-5d2d-4714-ac9d-bc6f74edafd8",
   "metadata": {},
   "source": [
    "# Coursework Project\n",
    "Data Pre-Processing for a Sales Forecasting Problem\n",
    "\n",
    "DATA71011 Understanding Data and their Environment"
   ]
  },
  {
   "cell_type": "code",
   "execution_count": 811,
   "id": "143d9ecc-118a-48ed-8f7c-7ec4cf114459",
   "metadata": {},
   "outputs": [],
   "source": [
    "import pandas as pd\n",
    "import numpy as np\n",
    "import seaborn as sns\n",
    "import matplotlib.pyplot as plt"
   ]
  },
  {
   "cell_type": "code",
   "execution_count": 812,
   "id": "7b055cb4-47b1-44e0-9560-49a274187571",
   "metadata": {},
   "outputs": [
    {
     "name": "stderr",
     "output_type": "stream",
     "text": [
      "/var/folders/9q/x_qkm_295r77cyh7zn22pj3h0000gn/T/ipykernel_9323/2433977353.py:1: DtypeWarning: Columns (13) have mixed types. Specify dtype option on import or set low_memory=False.\n",
      "  dataTrain = pd.read_csv('/Users/alexander/Documents/MSc Data Science/Understanding Data and their Environment/Assignment 2/final-data/final-data-forecast.csv')\n"
     ]
    }
   ],
   "source": [
    "dataTrain = pd.read_csv('/Users/alexander/Documents/MSc Data Science/Understanding Data and their Environment/Assignment 2/final-data/final-data-forecast.csv')\n",
    "testSet = pd.read_csv('/Users/alexander/Documents/MSc Data Science/Understanding Data and their Environment/Assignment 2/final-data/final-testData.csv')"
   ]
  },
  {
   "cell_type": "markdown",
   "id": "4d9f12f9-3d00-4cc9-b1a2-a0d1d1f66d7f",
   "metadata": {},
   "source": [
    "### 1. Including Lagged Features"
   ]
  },
  {
   "cell_type": "code",
   "execution_count": 814,
   "id": "ea11d417-ce63-42d5-a939-db6ed8bb9fd1",
   "metadata": {},
   "outputs": [],
   "source": [
    "dataTrain['Date'] = pd.to_datetime(dataTrain['Date'])"
   ]
  },
  {
   "cell_type": "code",
   "execution_count": 815,
   "id": "0a8c361e-1482-4299-826a-fed4872095ce",
   "metadata": {},
   "outputs": [
    {
     "data": {
      "text/html": [
       "<div>\n",
       "<style scoped>\n",
       "    .dataframe tbody tr th:only-of-type {\n",
       "        vertical-align: middle;\n",
       "    }\n",
       "\n",
       "    .dataframe tbody tr th {\n",
       "        vertical-align: top;\n",
       "    }\n",
       "\n",
       "    .dataframe thead th {\n",
       "        text-align: right;\n",
       "    }\n",
       "</style>\n",
       "<table border=\"1\" class=\"dataframe\">\n",
       "  <thead>\n",
       "    <tr style=\"text-align: right;\">\n",
       "      <th></th>\n",
       "      <th>Store</th>\n",
       "      <th>DayOfWeek</th>\n",
       "      <th>Date</th>\n",
       "      <th>Sales</th>\n",
       "      <th>Customers</th>\n",
       "      <th>Open</th>\n",
       "      <th>Promo</th>\n",
       "      <th>StateHoliday</th>\n",
       "      <th>SchoolHoliday</th>\n",
       "      <th>StoreType</th>\n",
       "      <th>Assortment</th>\n",
       "      <th>CompetitionDistance</th>\n",
       "      <th>Promo2</th>\n",
       "      <th>CompetitionOpenDate</th>\n",
       "      <th>DiffTimeMonths</th>\n",
       "      <th>PromoDate</th>\n",
       "      <th>DiffPromoTimeMonths</th>\n",
       "    </tr>\n",
       "  </thead>\n",
       "  <tbody>\n",
       "    <tr>\n",
       "      <th>239</th>\n",
       "      <td>1</td>\n",
       "      <td>Tuesday</td>\n",
       "      <td>2013-01-01</td>\n",
       "      <td>0</td>\n",
       "      <td>0</td>\n",
       "      <td>0</td>\n",
       "      <td>0</td>\n",
       "      <td>Public Holiday</td>\n",
       "      <td>1</td>\n",
       "      <td>Type C</td>\n",
       "      <td>Basic</td>\n",
       "      <td>1270</td>\n",
       "      <td>0</td>\n",
       "      <td>2008-09-01</td>\n",
       "      <td>82</td>\n",
       "      <td>NaN</td>\n",
       "      <td>0</td>\n",
       "    </tr>\n",
       "    <tr>\n",
       "      <th>217</th>\n",
       "      <td>1</td>\n",
       "      <td>Wednesday</td>\n",
       "      <td>2013-01-02</td>\n",
       "      <td>5530</td>\n",
       "      <td>668</td>\n",
       "      <td>1</td>\n",
       "      <td>0</td>\n",
       "      <td>NaN</td>\n",
       "      <td>1</td>\n",
       "      <td>Type C</td>\n",
       "      <td>Basic</td>\n",
       "      <td>1270</td>\n",
       "      <td>0</td>\n",
       "      <td>2008-09-01</td>\n",
       "      <td>82</td>\n",
       "      <td>NaN</td>\n",
       "      <td>0</td>\n",
       "    </tr>\n",
       "    <tr>\n",
       "      <th>195</th>\n",
       "      <td>1</td>\n",
       "      <td>Thursday</td>\n",
       "      <td>2013-01-03</td>\n",
       "      <td>4327</td>\n",
       "      <td>578</td>\n",
       "      <td>1</td>\n",
       "      <td>0</td>\n",
       "      <td>NaN</td>\n",
       "      <td>1</td>\n",
       "      <td>Type C</td>\n",
       "      <td>Basic</td>\n",
       "      <td>1270</td>\n",
       "      <td>0</td>\n",
       "      <td>2008-09-01</td>\n",
       "      <td>82</td>\n",
       "      <td>NaN</td>\n",
       "      <td>0</td>\n",
       "    </tr>\n",
       "    <tr>\n",
       "      <th>175</th>\n",
       "      <td>1</td>\n",
       "      <td>Friday</td>\n",
       "      <td>2013-01-04</td>\n",
       "      <td>4486</td>\n",
       "      <td>619</td>\n",
       "      <td>1</td>\n",
       "      <td>0</td>\n",
       "      <td>NaN</td>\n",
       "      <td>1</td>\n",
       "      <td>Type C</td>\n",
       "      <td>Basic</td>\n",
       "      <td>1270</td>\n",
       "      <td>0</td>\n",
       "      <td>2008-09-01</td>\n",
       "      <td>82</td>\n",
       "      <td>NaN</td>\n",
       "      <td>0</td>\n",
       "    </tr>\n",
       "    <tr>\n",
       "      <th>762</th>\n",
       "      <td>1</td>\n",
       "      <td>Saturday</td>\n",
       "      <td>2013-01-05</td>\n",
       "      <td>4997</td>\n",
       "      <td>635</td>\n",
       "      <td>1</td>\n",
       "      <td>0</td>\n",
       "      <td>NaN</td>\n",
       "      <td>1</td>\n",
       "      <td>Type C</td>\n",
       "      <td>Basic</td>\n",
       "      <td>1270</td>\n",
       "      <td>0</td>\n",
       "      <td>2008-09-01</td>\n",
       "      <td>82</td>\n",
       "      <td>NaN</td>\n",
       "      <td>0</td>\n",
       "    </tr>\n",
       "  </tbody>\n",
       "</table>\n",
       "</div>"
      ],
      "text/plain": [
       "     Store  DayOfWeek       Date  Sales  Customers  Open  Promo  \\\n",
       "239      1    Tuesday 2013-01-01      0          0     0      0   \n",
       "217      1  Wednesday 2013-01-02   5530        668     1      0   \n",
       "195      1   Thursday 2013-01-03   4327        578     1      0   \n",
       "175      1     Friday 2013-01-04   4486        619     1      0   \n",
       "762      1   Saturday 2013-01-05   4997        635     1      0   \n",
       "\n",
       "       StateHoliday  SchoolHoliday StoreType Assortment  CompetitionDistance  \\\n",
       "239  Public Holiday              1    Type C      Basic                 1270   \n",
       "217             NaN              1    Type C      Basic                 1270   \n",
       "195             NaN              1    Type C      Basic                 1270   \n",
       "175             NaN              1    Type C      Basic                 1270   \n",
       "762             NaN              1    Type C      Basic                 1270   \n",
       "\n",
       "     Promo2 CompetitionOpenDate  DiffTimeMonths PromoDate  DiffPromoTimeMonths  \n",
       "239       0          2008-09-01              82       NaN                    0  \n",
       "217       0          2008-09-01              82       NaN                    0  \n",
       "195       0          2008-09-01              82       NaN                    0  \n",
       "175       0          2008-09-01              82       NaN                    0  \n",
       "762       0          2008-09-01              82       NaN                    0  "
      ]
     },
     "execution_count": 815,
     "metadata": {},
     "output_type": "execute_result"
    }
   ],
   "source": [
    "dataTrain = dataTrain.sort_values(by=['Store', 'Date'])\n",
    "dataTrain.head()"
   ]
  },
  {
   "cell_type": "code",
   "execution_count": 816,
   "id": "263ead37-74ff-4fbb-a79e-b73dea01969f",
   "metadata": {},
   "outputs": [],
   "source": [
    "# Create lagged features for each store\n",
    "dataTrain['Lag_1'] = dataTrain.groupby('Store')['Sales'].shift(1)\n",
    "dataTrain['Lag_7'] = dataTrain.groupby('Store')['Sales'].shift(7)\n",
    "dataTrain['Rolling_Mean_7'] = dataTrain.groupby('Store')['Sales'].transform(lambda x: x.shift(1).rolling(7).mean())"
   ]
  },
  {
   "cell_type": "code",
   "execution_count": 817,
   "id": "6804689f-4c1a-4257-bbb7-81912ce6ecb3",
   "metadata": {},
   "outputs": [
    {
     "name": "stdout",
     "output_type": "stream",
     "text": [
      "Lag_1             1115\n",
      "Lag_7             7805\n",
      "Rolling_Mean_7    7805\n",
      "dtype: int64\n"
     ]
    }
   ],
   "source": [
    "# Count NaN values in lagged features\n",
    "lagged_nan_counts = dataTrain[['Lag_1', 'Lag_7', 'Rolling_Mean_7']].isnull().sum()\n",
    "\n",
    "# Display NaN counts for lagged features\n",
    "print(lagged_nan_counts)"
   ]
  },
  {
   "cell_type": "code",
   "execution_count": 818,
   "id": "0ce7508d-c97c-40c5-af04-3a22deb374f0",
   "metadata": {},
   "outputs": [
    {
     "data": {
      "text/html": [
       "<div>\n",
       "<style scoped>\n",
       "    .dataframe tbody tr th:only-of-type {\n",
       "        vertical-align: middle;\n",
       "    }\n",
       "\n",
       "    .dataframe tbody tr th {\n",
       "        vertical-align: top;\n",
       "    }\n",
       "\n",
       "    .dataframe thead th {\n",
       "        text-align: right;\n",
       "    }\n",
       "</style>\n",
       "<table border=\"1\" class=\"dataframe\">\n",
       "  <thead>\n",
       "    <tr style=\"text-align: right;\">\n",
       "      <th></th>\n",
       "      <th>Store</th>\n",
       "      <th>DayOfWeek</th>\n",
       "      <th>Date</th>\n",
       "      <th>Sales</th>\n",
       "      <th>Customers</th>\n",
       "      <th>Open</th>\n",
       "      <th>Promo</th>\n",
       "      <th>StateHoliday</th>\n",
       "      <th>SchoolHoliday</th>\n",
       "      <th>StoreType</th>\n",
       "      <th>Assortment</th>\n",
       "      <th>CompetitionDistance</th>\n",
       "      <th>Promo2</th>\n",
       "      <th>CompetitionOpenDate</th>\n",
       "      <th>DiffTimeMonths</th>\n",
       "      <th>PromoDate</th>\n",
       "      <th>DiffPromoTimeMonths</th>\n",
       "      <th>Lag_1</th>\n",
       "      <th>Lag_7</th>\n",
       "      <th>Rolling_Mean_7</th>\n",
       "    </tr>\n",
       "  </thead>\n",
       "  <tbody>\n",
       "    <tr>\n",
       "      <th>862</th>\n",
       "      <td>1</td>\n",
       "      <td>Tuesday</td>\n",
       "      <td>2013-01-08</td>\n",
       "      <td>5580</td>\n",
       "      <td>654</td>\n",
       "      <td>1</td>\n",
       "      <td>1</td>\n",
       "      <td>NaN</td>\n",
       "      <td>1</td>\n",
       "      <td>Type C</td>\n",
       "      <td>Basic</td>\n",
       "      <td>1270</td>\n",
       "      <td>0</td>\n",
       "      <td>2008-09-01</td>\n",
       "      <td>82</td>\n",
       "      <td>NaN</td>\n",
       "      <td>0</td>\n",
       "      <td>7176.0</td>\n",
       "      <td>0.0</td>\n",
       "      <td>3788.000000</td>\n",
       "    </tr>\n",
       "    <tr>\n",
       "      <th>66</th>\n",
       "      <td>1</td>\n",
       "      <td>Wednesday</td>\n",
       "      <td>2013-01-09</td>\n",
       "      <td>5471</td>\n",
       "      <td>626</td>\n",
       "      <td>1</td>\n",
       "      <td>1</td>\n",
       "      <td>NaN</td>\n",
       "      <td>1</td>\n",
       "      <td>Type C</td>\n",
       "      <td>Basic</td>\n",
       "      <td>1270</td>\n",
       "      <td>0</td>\n",
       "      <td>2008-09-01</td>\n",
       "      <td>82</td>\n",
       "      <td>NaN</td>\n",
       "      <td>0</td>\n",
       "      <td>5580.0</td>\n",
       "      <td>5530.0</td>\n",
       "      <td>4585.142857</td>\n",
       "    </tr>\n",
       "    <tr>\n",
       "      <th>45</th>\n",
       "      <td>1</td>\n",
       "      <td>Thursday</td>\n",
       "      <td>2013-01-10</td>\n",
       "      <td>4892</td>\n",
       "      <td>615</td>\n",
       "      <td>1</td>\n",
       "      <td>1</td>\n",
       "      <td>NaN</td>\n",
       "      <td>1</td>\n",
       "      <td>Type C</td>\n",
       "      <td>Basic</td>\n",
       "      <td>1270</td>\n",
       "      <td>0</td>\n",
       "      <td>2008-09-01</td>\n",
       "      <td>82</td>\n",
       "      <td>NaN</td>\n",
       "      <td>0</td>\n",
       "      <td>5471.0</td>\n",
       "      <td>4327.0</td>\n",
       "      <td>4576.714286</td>\n",
       "    </tr>\n",
       "    <tr>\n",
       "      <th>23</th>\n",
       "      <td>1</td>\n",
       "      <td>Friday</td>\n",
       "      <td>2013-01-11</td>\n",
       "      <td>4881</td>\n",
       "      <td>592</td>\n",
       "      <td>1</td>\n",
       "      <td>1</td>\n",
       "      <td>NaN</td>\n",
       "      <td>1</td>\n",
       "      <td>Type C</td>\n",
       "      <td>Basic</td>\n",
       "      <td>1270</td>\n",
       "      <td>0</td>\n",
       "      <td>2008-09-01</td>\n",
       "      <td>82</td>\n",
       "      <td>NaN</td>\n",
       "      <td>0</td>\n",
       "      <td>4892.0</td>\n",
       "      <td>4486.0</td>\n",
       "      <td>4657.428571</td>\n",
       "    </tr>\n",
       "    <tr>\n",
       "      <th>1</th>\n",
       "      <td>1</td>\n",
       "      <td>Saturday</td>\n",
       "      <td>2013-01-12</td>\n",
       "      <td>4952</td>\n",
       "      <td>646</td>\n",
       "      <td>1</td>\n",
       "      <td>0</td>\n",
       "      <td>NaN</td>\n",
       "      <td>0</td>\n",
       "      <td>Type C</td>\n",
       "      <td>Basic</td>\n",
       "      <td>1270</td>\n",
       "      <td>0</td>\n",
       "      <td>2008-09-01</td>\n",
       "      <td>82</td>\n",
       "      <td>NaN</td>\n",
       "      <td>0</td>\n",
       "      <td>4881.0</td>\n",
       "      <td>4997.0</td>\n",
       "      <td>4713.857143</td>\n",
       "    </tr>\n",
       "  </tbody>\n",
       "</table>\n",
       "</div>"
      ],
      "text/plain": [
       "     Store  DayOfWeek       Date  Sales  Customers  Open  Promo StateHoliday  \\\n",
       "862      1    Tuesday 2013-01-08   5580        654     1      1          NaN   \n",
       "66       1  Wednesday 2013-01-09   5471        626     1      1          NaN   \n",
       "45       1   Thursday 2013-01-10   4892        615     1      1          NaN   \n",
       "23       1     Friday 2013-01-11   4881        592     1      1          NaN   \n",
       "1        1   Saturday 2013-01-12   4952        646     1      0          NaN   \n",
       "\n",
       "     SchoolHoliday StoreType Assortment  CompetitionDistance  Promo2  \\\n",
       "862              1    Type C      Basic                 1270       0   \n",
       "66               1    Type C      Basic                 1270       0   \n",
       "45               1    Type C      Basic                 1270       0   \n",
       "23               1    Type C      Basic                 1270       0   \n",
       "1                0    Type C      Basic                 1270       0   \n",
       "\n",
       "    CompetitionOpenDate  DiffTimeMonths PromoDate  DiffPromoTimeMonths  \\\n",
       "862          2008-09-01              82       NaN                    0   \n",
       "66           2008-09-01              82       NaN                    0   \n",
       "45           2008-09-01              82       NaN                    0   \n",
       "23           2008-09-01              82       NaN                    0   \n",
       "1            2008-09-01              82       NaN                    0   \n",
       "\n",
       "      Lag_1   Lag_7  Rolling_Mean_7  \n",
       "862  7176.0     0.0     3788.000000  \n",
       "66   5580.0  5530.0     4585.142857  \n",
       "45   5471.0  4327.0     4576.714286  \n",
       "23   4892.0  4486.0     4657.428571  \n",
       "1    4881.0  4997.0     4713.857143  "
      ]
     },
     "execution_count": 818,
     "metadata": {},
     "output_type": "execute_result"
    }
   ],
   "source": [
    "dataTrain = dataTrain.dropna(subset=['Lag_1', 'Lag_7', 'Rolling_Mean_7'])\n",
    "dataTrain.head()"
   ]
  },
  {
   "cell_type": "markdown",
   "id": "a39dcc05-52c6-47eb-b3c4-5cb9091577e1",
   "metadata": {},
   "source": [
    "### 2. Running Models\n",
    "\n",
    "First, we will run ML models with all features. We will automatically assign zero to closed stores and use only the open stores for training. These are the variables that will be used for training:\n",
    "\n",
    "+ DayOfWeek\n",
    "+ Promo\n",
    "+ StateHoliday\n",
    "+ SchoolHoliday\n",
    "+ StoreType\n",
    "+ Assortment\n",
    "+ CompetitionDistance\n",
    "+ Promo2\n",
    "+ DiffTimeMonths\n",
    "+ DiffPromoTimeMonths"
   ]
  },
  {
   "cell_type": "markdown",
   "id": "7e915b40-0fd8-4fdf-8db4-6df141371e2f",
   "metadata": {},
   "source": [
    "### 2.1. Label Econding"
   ]
  },
  {
   "cell_type": "code",
   "execution_count": 821,
   "id": "a8acfad0-a75f-400e-a262-ba1098fb47d6",
   "metadata": {},
   "outputs": [],
   "source": [
    "from sklearn.preprocessing import LabelEncoder\n",
    "label_encoder = LabelEncoder()"
   ]
  },
  {
   "cell_type": "code",
   "execution_count": 822,
   "id": "ec7df8f3-5144-4546-8659-2d95abdf5982",
   "metadata": {},
   "outputs": [
    {
     "name": "stdout",
     "output_type": "stream",
     "text": [
      "Label Mapping: {'Friday': 0, 'Monday': 1, 'Saturday': 2, 'Sunday': 3, 'Thursday': 4, 'Tuesday': 5, 'Wednesday': 6}\n"
     ]
    }
   ],
   "source": [
    "# Transform the 'DayOfWeek' column\n",
    "dataTrain['DayOfWeek_encoded'] = label_encoder.fit_transform(dataTrain['DayOfWeek'])\n",
    "\n",
    "# Check the mapping of categories to integers\n",
    "label_mapping = dict(zip(label_encoder.classes_, range(len(label_encoder.classes_))))\n",
    "print(\"Label Mapping:\", label_mapping)"
   ]
  },
  {
   "cell_type": "code",
   "execution_count": 823,
   "id": "b203ae67-d0a2-4eb8-8084-adfcf7ae86f9",
   "metadata": {},
   "outputs": [
    {
     "name": "stdout",
     "output_type": "stream",
     "text": [
      "Label Mapping: {0: 0, 1: 1}\n"
     ]
    }
   ],
   "source": [
    "# Transform 'Promo' column\n",
    "dataTrain['Promo_encoded'] = label_encoder.fit_transform(dataTrain['Promo'])\n",
    "\n",
    "# Check the mapping of categories to integers\n",
    "label_mapping = dict(zip(label_encoder.classes_, range(len(label_encoder.classes_))))\n",
    "print(\"Label Mapping:\", label_mapping)"
   ]
  },
  {
   "cell_type": "code",
   "execution_count": 824,
   "id": "ddd8ba83-1241-416c-baec-75233074c8e8",
   "metadata": {},
   "outputs": [
    {
     "name": "stdout",
     "output_type": "stream",
     "text": [
      "Label Mapping: {'Christmas': 0, 'Easter Holiday': 1, 'Public Holiday': 2, nan: 3}\n"
     ]
    }
   ],
   "source": [
    "# Transform the 'StateHoliday' column\n",
    "dataTrain['StateHoliday_encoded'] = label_encoder.fit_transform(dataTrain['StateHoliday'])\n",
    "\n",
    "# Check the mapping of categories to integers\n",
    "label_mapping = dict(zip(label_encoder.classes_, range(len(label_encoder.classes_))))\n",
    "print(\"Label Mapping:\", label_mapping)"
   ]
  },
  {
   "cell_type": "code",
   "execution_count": 825,
   "id": "f0d03cae-b0a2-4f41-9345-2fc29e20b1d7",
   "metadata": {},
   "outputs": [
    {
     "name": "stdout",
     "output_type": "stream",
     "text": [
      "Label Mapping: {0: 0, 1: 1}\n"
     ]
    }
   ],
   "source": [
    "# Transform the 'SchoolHoliday' column\n",
    "dataTrain['SchoolHoliday_encoded'] = label_encoder.fit_transform(dataTrain['SchoolHoliday'])\n",
    "\n",
    "# Check the mapping of categories to integers\n",
    "label_mapping = dict(zip(label_encoder.classes_, range(len(label_encoder.classes_))))\n",
    "print(\"Label Mapping:\", label_mapping)"
   ]
  },
  {
   "cell_type": "code",
   "execution_count": 826,
   "id": "70131998-a250-4d3e-901d-30bf6a2a505d",
   "metadata": {},
   "outputs": [
    {
     "name": "stdout",
     "output_type": "stream",
     "text": [
      "Label Mapping: {'Type A': 0, 'Type B': 1, 'Type C': 2, 'Type D': 3}\n"
     ]
    }
   ],
   "source": [
    "# Transform the 'StoreType' column\n",
    "dataTrain['StoreType_encoded'] = label_encoder.fit_transform(dataTrain['StoreType'])\n",
    "\n",
    "# Check the mapping of categories to integers\n",
    "label_mapping = dict(zip(label_encoder.classes_, range(len(label_encoder.classes_))))\n",
    "print(\"Label Mapping:\", label_mapping)"
   ]
  },
  {
   "cell_type": "code",
   "execution_count": 827,
   "id": "cfa35dac-3e2b-4226-97da-b4dfb0222246",
   "metadata": {},
   "outputs": [
    {
     "name": "stdout",
     "output_type": "stream",
     "text": [
      "Label Mapping: {'Basic': 0, 'Extended': 1, 'Extra': 2}\n"
     ]
    }
   ],
   "source": [
    "# Transform the 'Assortment' column\n",
    "dataTrain['Assortment_encoded'] = label_encoder.fit_transform(dataTrain['Assortment'])\n",
    "\n",
    "# Check the mapping of categories to integers\n",
    "label_mapping = dict(zip(label_encoder.classes_, range(len(label_encoder.classes_))))\n",
    "print(\"Label Mapping:\", label_mapping)"
   ]
  },
  {
   "cell_type": "code",
   "execution_count": 828,
   "id": "2f31c4e8-6334-4dba-8c44-eaf8f272de4b",
   "metadata": {},
   "outputs": [],
   "source": [
    "# Only with open stores:\n",
    "trainSet = dataTrain[dataTrain['Open'] == 1]"
   ]
  },
  {
   "cell_type": "code",
   "execution_count": 829,
   "id": "8c485e58-7484-485d-b4d1-34b8714bb84a",
   "metadata": {},
   "outputs": [],
   "source": [
    "# Create a copy of trainSet\n",
    "forecastTrain = trainSet.copy()"
   ]
  },
  {
   "cell_type": "code",
   "execution_count": 830,
   "id": "04084a6d-6ecd-4dd1-bf24-3365434be4f6",
   "metadata": {},
   "outputs": [
    {
     "name": "stdout",
     "output_type": "stream",
     "text": [
      "<class 'pandas.core.frame.DataFrame'>\n",
      "Index: 838814 entries, 862 to 1016970\n",
      "Data columns (total 15 columns):\n",
      " #   Column                 Non-Null Count   Dtype         \n",
      "---  ------                 --------------   -----         \n",
      " 0   Date                   838814 non-null  datetime64[ns]\n",
      " 1   Sales                  838814 non-null  int64         \n",
      " 2   CompetitionDistance    838814 non-null  int64         \n",
      " 3   Promo2                 838814 non-null  int64         \n",
      " 4   DiffTimeMonths         838814 non-null  int64         \n",
      " 5   DiffPromoTimeMonths    838814 non-null  int64         \n",
      " 6   Lag_1                  838814 non-null  float64       \n",
      " 7   Lag_7                  838814 non-null  float64       \n",
      " 8   Rolling_Mean_7         838814 non-null  float64       \n",
      " 9   DayOfWeek_encoded      838814 non-null  int64         \n",
      " 10  Promo_encoded          838814 non-null  int64         \n",
      " 11  StateHoliday_encoded   838814 non-null  int64         \n",
      " 12  SchoolHoliday_encoded  838814 non-null  int64         \n",
      " 13  StoreType_encoded      838814 non-null  int64         \n",
      " 14  Assortment_encoded     838814 non-null  int64         \n",
      "dtypes: datetime64[ns](1), float64(3), int64(11)\n",
      "memory usage: 102.4 MB\n"
     ]
    }
   ],
   "source": [
    "# Final train set:\n",
    "columns_drop = [\n",
    "    'Store', 'DayOfWeek','Customers', 'Open',\n",
    "    'StateHoliday', 'SchoolHoliday', 'StoreType',\n",
    "    'Assortment', 'CompetitionOpenDate','PromoDate','Promo' \n",
    "]\n",
    "# Drop the columns\n",
    "trainSet = trainSet.drop(columns=columns_drop)\n",
    "trainSet.info()"
   ]
  },
  {
   "cell_type": "markdown",
   "id": "568dc48f-5691-4266-a4e2-86fa1ffbad0a",
   "metadata": {},
   "source": [
    "### 2.2. Standarization of numerical variables"
   ]
  },
  {
   "cell_type": "code",
   "execution_count": 832,
   "id": "3e3d0708-edb0-41fc-81d7-25990cb9c244",
   "metadata": {},
   "outputs": [],
   "source": [
    "# Standardize only the numerical variables while keeping dummy variables and encoded factors intact:\n",
    "from sklearn.preprocessing import MinMaxScaler\n",
    "\n",
    "# List numerical variables to standardize\n",
    "numerical_features = [\n",
    "    'CompetitionDistance', 'DiffTimeMonths', 'DiffPromoTimeMonths',\n",
    "    'Lag_1','Lag_7','Rolling_Mean_7'\n",
    "]\n",
    "\n",
    "# Initialize the scaler\n",
    "scaler = MinMaxScaler(feature_range=(-1, 1))\n",
    "\n",
    "# Apply scaling to numerical features\n",
    "scaled_values = scaler.fit_transform(trainSet[numerical_features])\n",
    "\n",
    "# Replace original columns with scaled values\n",
    "trainSet[numerical_features] = scaled_values"
   ]
  },
  {
   "cell_type": "code",
   "execution_count": 833,
   "id": "c62de129-dc1c-42a5-9d98-4062baeab89a",
   "metadata": {},
   "outputs": [
    {
     "data": {
      "text/html": [
       "<div>\n",
       "<style scoped>\n",
       "    .dataframe tbody tr th:only-of-type {\n",
       "        vertical-align: middle;\n",
       "    }\n",
       "\n",
       "    .dataframe tbody tr th {\n",
       "        vertical-align: top;\n",
       "    }\n",
       "\n",
       "    .dataframe thead th {\n",
       "        text-align: right;\n",
       "    }\n",
       "</style>\n",
       "<table border=\"1\" class=\"dataframe\">\n",
       "  <thead>\n",
       "    <tr style=\"text-align: right;\">\n",
       "      <th></th>\n",
       "      <th>Date</th>\n",
       "      <th>Sales</th>\n",
       "      <th>CompetitionDistance</th>\n",
       "      <th>Promo2</th>\n",
       "      <th>DiffTimeMonths</th>\n",
       "      <th>DiffPromoTimeMonths</th>\n",
       "      <th>Lag_1</th>\n",
       "      <th>Lag_7</th>\n",
       "      <th>Rolling_Mean_7</th>\n",
       "      <th>DayOfWeek_encoded</th>\n",
       "      <th>Promo_encoded</th>\n",
       "      <th>StateHoliday_encoded</th>\n",
       "      <th>SchoolHoliday_encoded</th>\n",
       "      <th>StoreType_encoded</th>\n",
       "      <th>Assortment_encoded</th>\n",
       "    </tr>\n",
       "  </thead>\n",
       "  <tbody>\n",
       "    <tr>\n",
       "      <th>1016326</th>\n",
       "      <td>2015-07-27</td>\n",
       "      <td>10712</td>\n",
       "      <td>-0.859441</td>\n",
       "      <td>1</td>\n",
       "      <td>-0.950938</td>\n",
       "      <td>0.070423</td>\n",
       "      <td>-1.000000</td>\n",
       "      <td>-0.707203</td>\n",
       "      <td>-0.656117</td>\n",
       "      <td>1</td>\n",
       "      <td>1</td>\n",
       "      <td>3</td>\n",
       "      <td>1</td>\n",
       "      <td>3</td>\n",
       "      <td>1</td>\n",
       "    </tr>\n",
       "    <tr>\n",
       "      <th>1017033</th>\n",
       "      <td>2015-07-28</td>\n",
       "      <td>8093</td>\n",
       "      <td>-0.859441</td>\n",
       "      <td>1</td>\n",
       "      <td>-0.950938</td>\n",
       "      <td>0.070423</td>\n",
       "      <td>-0.484393</td>\n",
       "      <td>-0.755770</td>\n",
       "      <td>-0.611102</td>\n",
       "      <td>5</td>\n",
       "      <td>1</td>\n",
       "      <td>3</td>\n",
       "      <td>1</td>\n",
       "      <td>3</td>\n",
       "      <td>1</td>\n",
       "    </tr>\n",
       "    <tr>\n",
       "      <th>1017014</th>\n",
       "      <td>2015-07-29</td>\n",
       "      <td>7661</td>\n",
       "      <td>-0.859441</td>\n",
       "      <td>1</td>\n",
       "      <td>-0.950938</td>\n",
       "      <td>0.070423</td>\n",
       "      <td>-0.610455</td>\n",
       "      <td>-0.742870</td>\n",
       "      <td>-0.581743</td>\n",
       "      <td>6</td>\n",
       "      <td>1</td>\n",
       "      <td>3</td>\n",
       "      <td>1</td>\n",
       "      <td>3</td>\n",
       "      <td>1</td>\n",
       "    </tr>\n",
       "    <tr>\n",
       "      <th>1016992</th>\n",
       "      <td>2015-07-30</td>\n",
       "      <td>8405</td>\n",
       "      <td>-0.859441</td>\n",
       "      <td>1</td>\n",
       "      <td>-0.950938</td>\n",
       "      <td>0.070423</td>\n",
       "      <td>-0.631248</td>\n",
       "      <td>-0.703978</td>\n",
       "      <td>-0.559191</td>\n",
       "      <td>4</td>\n",
       "      <td>1</td>\n",
       "      <td>3</td>\n",
       "      <td>1</td>\n",
       "      <td>3</td>\n",
       "      <td>1</td>\n",
       "    </tr>\n",
       "    <tr>\n",
       "      <th>1016970</th>\n",
       "      <td>2015-07-31</td>\n",
       "      <td>8680</td>\n",
       "      <td>-0.859441</td>\n",
       "      <td>1</td>\n",
       "      <td>-0.950938</td>\n",
       "      <td>0.070423</td>\n",
       "      <td>-0.595437</td>\n",
       "      <td>-0.720055</td>\n",
       "      <td>-0.537262</td>\n",
       "      <td>0</td>\n",
       "      <td>1</td>\n",
       "      <td>3</td>\n",
       "      <td>1</td>\n",
       "      <td>3</td>\n",
       "      <td>1</td>\n",
       "    </tr>\n",
       "  </tbody>\n",
       "</table>\n",
       "</div>"
      ],
      "text/plain": [
       "              Date  Sales  CompetitionDistance  Promo2  DiffTimeMonths  \\\n",
       "1016326 2015-07-27  10712            -0.859441       1       -0.950938   \n",
       "1017033 2015-07-28   8093            -0.859441       1       -0.950938   \n",
       "1017014 2015-07-29   7661            -0.859441       1       -0.950938   \n",
       "1016992 2015-07-30   8405            -0.859441       1       -0.950938   \n",
       "1016970 2015-07-31   8680            -0.859441       1       -0.950938   \n",
       "\n",
       "         DiffPromoTimeMonths     Lag_1     Lag_7  Rolling_Mean_7  \\\n",
       "1016326             0.070423 -1.000000 -0.707203       -0.656117   \n",
       "1017033             0.070423 -0.484393 -0.755770       -0.611102   \n",
       "1017014             0.070423 -0.610455 -0.742870       -0.581743   \n",
       "1016992             0.070423 -0.631248 -0.703978       -0.559191   \n",
       "1016970             0.070423 -0.595437 -0.720055       -0.537262   \n",
       "\n",
       "         DayOfWeek_encoded  Promo_encoded  StateHoliday_encoded  \\\n",
       "1016326                  1              1                     3   \n",
       "1017033                  5              1                     3   \n",
       "1017014                  6              1                     3   \n",
       "1016992                  4              1                     3   \n",
       "1016970                  0              1                     3   \n",
       "\n",
       "         SchoolHoliday_encoded  StoreType_encoded  Assortment_encoded  \n",
       "1016326                      1                  3                   1  \n",
       "1017033                      1                  3                   1  \n",
       "1017014                      1                  3                   1  \n",
       "1016992                      1                  3                   1  \n",
       "1016970                      1                  3                   1  "
      ]
     },
     "execution_count": 833,
     "metadata": {},
     "output_type": "execute_result"
    }
   ],
   "source": [
    "trainSet.tail()"
   ]
  },
  {
   "cell_type": "markdown",
   "id": "85f76088-dece-462c-a652-4eeeb3a3c1b5",
   "metadata": {},
   "source": [
    "### 2.3. Exploring correlation between predictors"
   ]
  },
  {
   "cell_type": "code",
   "execution_count": 835,
   "id": "432e4720-f5bc-49b0-bb9e-efde8cd48425",
   "metadata": {},
   "outputs": [],
   "source": [
    "# Dropping ID columns\n",
    "corrMatrix = trainSet.drop(['Sales','Date'], axis='columns')"
   ]
  },
  {
   "cell_type": "code",
   "execution_count": 836,
   "id": "55b9e0a0-7933-4267-b4b8-a4ddf946953c",
   "metadata": {},
   "outputs": [
    {
     "data": {
      "image/png": "[encoded data removed]",
      "text/plain": [
       "<Figure size 1200x800 with 2 Axes>"
      ]
     },
     "metadata": {},
     "output_type": "display_data"
    }
   ],
   "source": [
    "# Compute the correlation matrix\n",
    "correlation_matrix = corrMatrix.corr()\n",
    "\n",
    "# Plot a heatmap\n",
    "plt.figure(figsize=(12, 8))\n",
    "sns.heatmap(correlation_matrix, annot=True, cmap=\"coolwarm\", fmt=\".2f\")\n",
    "plt.title(\"Correlation Matrix\")\n",
    "plt.show()"
   ]
  },
  {
   "cell_type": "markdown",
   "id": "88fcb0b2-8137-4a9e-a220-b3a4037c0d47",
   "metadata": {},
   "source": [
    "### 3. Machine Learning"
   ]
  },
  {
   "cell_type": "markdown",
   "id": "dd38adeb-83b1-4fbc-8f4c-3b6ec6ab7cc0",
   "metadata": {},
   "source": [
    "#### 3.1. Training with all Features"
   ]
  },
  {
   "cell_type": "code",
   "execution_count": 506,
   "id": "e76d143a-de7c-4190-9d26-0543ca8e7c63",
   "metadata": {},
   "outputs": [
    {
     "name": "stdout",
     "output_type": "stream",
     "text": [
      "X_train shape: (642782, 13)\n",
      "X_test shape: (196032, 13)\n"
     ]
    }
   ],
   "source": [
    "from sklearn.model_selection import train_test_split\n",
    "\n",
    "# Ensure data is sorted by Date\n",
    "trainSet = trainSet.sort_values(by='Date')\n",
    "\n",
    "# Define cutoff date for training and testing split\n",
    "cutoff_date = '2015-01-01'\n",
    "\n",
    "# Split into training and testing sets\n",
    "train_data = trainSet[trainSet['Date'] < cutoff_date]\n",
    "test_data = trainSet[trainSet['Date'] >= cutoff_date]\n",
    "\n",
    "# Separate features and target\n",
    "X_train = train_data.drop(columns=['Sales', 'Date'])\n",
    "y_train = train_data['Sales']\n",
    "\n",
    "X_test = test_data.drop(columns=['Sales', 'Date'])\n",
    "y_test = test_data['Sales']\n",
    "\n",
    "# Print shapes to confirm\n",
    "print(f\"X_train shape: {X_train.shape}\")\n",
    "print(f\"X_test shape: {X_test.shape}\")"
   ]
  },
  {
   "cell_type": "code",
   "execution_count": 508,
   "id": "f45f8a57-011c-4b36-8f88-40ac519b7533",
   "metadata": {},
   "outputs": [],
   "source": [
    "from sklearn.linear_model import Ridge\n",
    "from sklearn.model_selection import cross_val_score\n",
    "from sklearn.metrics import make_scorer\n",
    "\n",
    "# Define RMSPE function\n",
    "def rmspe(y_true, y_pred):\n",
    "    non_zero_mask = y_true != 0  # Avoid division by zero\n",
    "    percentage_errors = ((y_true[non_zero_mask] - y_pred[non_zero_mask]) / y_true[non_zero_mask]) ** 2\n",
    "    return np.sqrt(np.mean(percentage_errors))\n",
    "\n",
    "# Create custom RMSPE scorer\n",
    "rmspe_scorer = make_scorer(rmspe, greater_is_better=False)"
   ]
  },
  {
   "cell_type": "markdown",
   "id": "2573c169-1ec6-40ad-a145-41863a23582b",
   "metadata": {},
   "source": [
    "#### OLS"
   ]
  },
  {
   "cell_type": "code",
   "execution_count": 511,
   "id": "703581e1-523a-4124-8358-484f3ff02f63",
   "metadata": {},
   "outputs": [
    {
     "name": "stdout",
     "output_type": "stream",
     "text": [
      "RMSPE on Test Set: 0.2794\n",
      "R² on Test Set: 0.6912\n"
     ]
    }
   ],
   "source": [
    "from sklearn.linear_model import LinearRegression\n",
    "from sklearn.metrics import make_scorer, r2_score\n",
    "\n",
    "# Define RMSPE scoring\n",
    "def rmspe(y_true, y_pred):\n",
    "    non_zero_mask = y_true != 0\n",
    "    percentage_errors = ((y_true[non_zero_mask] - y_pred[non_zero_mask]) / y_true[non_zero_mask]) ** 2\n",
    "    return np.sqrt(np.mean(percentage_errors))\n",
    "\n",
    "# Initialize OLS (LinearRegression)\n",
    "ols = LinearRegression()\n",
    "\n",
    "# Train the OLS model on the training set\n",
    "ols.fit(X_train, y_train)\n",
    "\n",
    "# Predict on the test set\n",
    "y_test_pred = ols.predict(X_test)\n",
    "\n",
    "# Evaluate RMSPE on the test set\n",
    "test_rmspe = rmspe(y_test, y_test_pred)\n",
    "\n",
    "# Evaluate R² on the test set\n",
    "test_r2 = r2_score(y_test, y_test_pred)\n",
    "\n",
    "# Output the results\n",
    "print(f\"RMSPE on Test Set: {test_rmspe:.4f}\")\n",
    "print(f\"R² on Test Set: {test_r2:.4f}\")\n"
   ]
  },
  {
   "cell_type": "markdown",
   "id": "676df805-3b09-4c0f-bbe7-3b470518c035",
   "metadata": {},
   "source": [
    "#### Ridge Regression"
   ]
  },
  {
   "cell_type": "code",
   "execution_count": 514,
   "id": "4462389c-1cd7-4bc3-b710-ee114c19f5ee",
   "metadata": {},
   "outputs": [
    {
     "name": "stdout",
     "output_type": "stream",
     "text": [
      "Best alpha: 1000\n",
      "RMSPE on Test Set: 0.2778\n",
      "R² on Test Set: 0.6863\n"
     ]
    }
   ],
   "source": [
    "from sklearn.linear_model import Ridge\n",
    "from sklearn.model_selection import GridSearchCV\n",
    "from sklearn.metrics import make_scorer, r2_score\n",
    "\n",
    "# Define RMSPE scoring function\n",
    "def rmspe(y_true, y_pred):\n",
    "    non_zero_mask = y_true != 0\n",
    "    percentage_errors = ((y_true[non_zero_mask] - y_pred[non_zero_mask]) / y_true[non_zero_mask]) ** 2\n",
    "    return np.sqrt(np.mean(percentage_errors))\n",
    "\n",
    "# Create custom RMSPE scorer\n",
    "rmspe_scorer = make_scorer(rmspe, greater_is_better=False)\n",
    "\n",
    "# Define parameter grid for alpha\n",
    "param_grid = {'alpha': [0.1, 1, 10, 100, 1000]}\n",
    "\n",
    "# Initialize Ridge Regression with GridSearchCV\n",
    "ridge_grid = GridSearchCV(Ridge(), param_grid, scoring=rmspe_scorer, cv=5)\n",
    "\n",
    "# Perform CV and hyperparameter tuning on the training set\n",
    "ridge_grid.fit(X_train, y_train)\n",
    "\n",
    "# Retrieve the best Ridge model\n",
    "best_ridge = ridge_grid.best_estimator_\n",
    "\n",
    "# Predict on the test set\n",
    "y_test_pred = best_ridge.predict(X_test)\n",
    "\n",
    "# Evaluate RMSPE on the test set\n",
    "test_rmspe = rmspe(y_test, y_test_pred)\n",
    "\n",
    "# Evaluate R² on the test set\n",
    "test_r2 = r2_score(y_test, y_test_pred)\n",
    "\n",
    "# Output results\n",
    "print(f\"Best alpha: {ridge_grid.best_params_['alpha']}\")\n",
    "print(f\"RMSPE on Test Set: {test_rmspe:.4f}\")\n",
    "print(f\"R² on Test Set: {test_r2:.4f}\")\n"
   ]
  },
  {
   "cell_type": "markdown",
   "id": "6cef7f93-1ebb-4ddc-ba19-17822f9f4da0",
   "metadata": {},
   "source": [
    "#### Lasso Regression"
   ]
  },
  {
   "cell_type": "code",
   "execution_count": 517,
   "id": "e4486d6a-477b-4ed2-91b3-061a927920c8",
   "metadata": {},
   "outputs": [
    {
     "name": "stdout",
     "output_type": "stream",
     "text": [
      "Best alpha: 0.0001\n",
      "RMSPE on Test Set: 0.2794\n",
      "R² on Test Set: 0.6912\n"
     ]
    }
   ],
   "source": [
    "from sklearn.linear_model import Lasso\n",
    "from sklearn.model_selection import GridSearchCV\n",
    "from sklearn.metrics import make_scorer, r2_score\n",
    "\n",
    "# Define RMSPE scoring\n",
    "def rmspe(y_true, y_pred):\n",
    "    non_zero_mask = y_true != 0\n",
    "    percentage_errors = ((y_true[non_zero_mask] - y_pred[non_zero_mask]) / y_true[non_zero_mask]) ** 2\n",
    "    return np.sqrt(np.mean(percentage_errors))\n",
    "\n",
    "rmspe_scorer = make_scorer(rmspe, greater_is_better=False)\n",
    "\n",
    "# Define parameter grid for alpha\n",
    "param_grid = {'alpha': [0.0001, 0.001, 0.01, 0.1, 1, 10]}\n",
    "\n",
    "# Initialize Lasso with GridSearchCV\n",
    "lasso_grid = GridSearchCV(Lasso(max_iter=10000), param_grid, scoring=rmspe_scorer, cv=5)\n",
    "\n",
    "# Perform CV and hyperparameter tuning\n",
    "lasso_grid.fit(X_train, y_train)\n",
    "\n",
    "# Retrieve the best Lasso model\n",
    "best_lasso = lasso_grid.best_estimator_\n",
    "\n",
    "# Predict on the test set\n",
    "y_test_pred = best_lasso.predict(X_test)\n",
    "\n",
    "# Evaluate RMSPE on the test set\n",
    "test_rmspe = rmspe(y_test, y_test_pred)\n",
    "\n",
    "# Evaluate R² on the test set\n",
    "test_r2 = r2_score(y_test, y_test_pred)\n",
    "\n",
    "# Output results\n",
    "print(f\"Best alpha: {lasso_grid.best_params_['alpha']}\")\n",
    "print(f\"RMSPE on Test Set: {test_rmspe:.4f}\")\n",
    "print(f\"R² on Test Set: {test_r2:.4f}\")\n"
   ]
  },
  {
   "cell_type": "markdown",
   "id": "5e16cd19-ebd5-4b55-94bb-b78e3274e427",
   "metadata": {},
   "source": [
    "#### MLP"
   ]
  },
  {
   "cell_type": "code",
   "execution_count": 112,
   "id": "36eca44b-7e4d-49ef-8096-04ff3e46eaa5",
   "metadata": {},
   "outputs": [
    {
     "name": "stdout",
     "output_type": "stream",
     "text": [
      "Best hyperparameters: {'activation': 'relu', 'alpha': 0.0001, 'hidden_layer_sizes': (128,), 'learning_rate': 'constant', 'solver': 'adam'}\n",
      "RMSPE on Test Set: 0.1832\n",
      "R² on Test Set: 0.8674\n"
     ]
    },
    {
     "name": "stderr",
     "output_type": "stream",
     "text": [
      "C:\\Users\\USUARIO\\anaconda3\\Lib\\site-packages\\sklearn\\neural_network\\_multilayer_perceptron.py:690: ConvergenceWarning: Stochastic Optimizer: Maximum iterations (1000) reached and the optimization hasn't converged yet.\n",
      "  warnings.warn(\n"
     ]
    }
   ],
   "source": [
    "from sklearn.metrics import make_scorer, r2_score\n",
    "from sklearn.model_selection import GridSearchCV\n",
    "from sklearn.neural_network import MLPRegressor\n",
    "\n",
    "# Define RMSPE scoring\n",
    "def rmspe(y_true, y_pred):\n",
    "    non_zero_mask = y_true != 0\n",
    "    percentage_errors = ((y_true[non_zero_mask] - y_pred[non_zero_mask]) / y_true[non_zero_mask]) ** 2\n",
    "    return np.sqrt(np.mean(percentage_errors))\n",
    "\n",
    "rmspe_scorer = make_scorer(rmspe, greater_is_better=False)\n",
    "\n",
    "# Adjust grid size\n",
    "param_grid = {\n",
    "    'hidden_layer_sizes': [(64,), (128,)],  # Fewer configurations\n",
    "    'activation': ['relu'],  # Focus on one activation function\n",
    "    'solver': ['adam'],  # Keep one solver\n",
    "    'alpha': [0.0001, 0.001],  # Smaller range of regularization values\n",
    "    'learning_rate': ['constant'],  # Fix learning rate\n",
    "}\n",
    "\n",
    "# Initialize MLPRegressor\n",
    "mlp = MLPRegressor(max_iter=1000, random_state=42)\n",
    "\n",
    "# Perform GridSearchCV\n",
    "mlp_grid = GridSearchCV(mlp, param_grid, scoring=rmspe_scorer, cv=5, n_jobs=-1)\n",
    "mlp_grid.fit(X_train, y_train)\n",
    "\n",
    "# Best model\n",
    "best_mlp = mlp_grid.best_estimator_\n",
    "\n",
    "# Test set evaluation\n",
    "y_test_pred = best_mlp.predict(X_test)\n",
    "test_rmspe = rmspe(y_test, y_test_pred)\n",
    "\n",
    "# Calculate R²\n",
    "test_r2 = r2_score(y_test, y_test_pred)\n",
    "\n",
    "# Output results\n",
    "print(f\"Best hyperparameters: {mlp_grid.best_params_}\")\n",
    "print(f\"RMSPE on Test Set: {test_rmspe:.4f}\")\n",
    "print(f\"R² on Test Set: {test_r2:.4f}\")\n"
   ]
  },
  {
   "cell_type": "markdown",
   "id": "bf1df906-e7bb-44a9-a670-0de250fd57d0",
   "metadata": {},
   "source": [
    "#### 3.2. Training with Selected Features"
   ]
  },
  {
   "cell_type": "code",
   "execution_count": 519,
   "id": "cbe0c600-2f38-410d-95aa-6c3eff4357b8",
   "metadata": {},
   "outputs": [
    {
     "name": "stdout",
     "output_type": "stream",
     "text": [
      "<class 'pandas.core.frame.DataFrame'>\n",
      "Index: 838814 entries, 862 to 1016970\n",
      "Data columns (total 13 columns):\n",
      " #   Column                Non-Null Count   Dtype         \n",
      "---  ------                --------------   -----         \n",
      " 0   Date                  838814 non-null  datetime64[ns]\n",
      " 1   Sales                 838814 non-null  int64         \n",
      " 2   CompetitionDistance   838814 non-null  float64       \n",
      " 3   DiffTimeMonths        838814 non-null  float64       \n",
      " 4   DiffPromoTimeMonths   838814 non-null  float64       \n",
      " 5   Lag_1                 838814 non-null  float64       \n",
      " 6   Lag_7                 838814 non-null  float64       \n",
      " 7   Rolling_Mean_7        838814 non-null  float64       \n",
      " 8   DayOfWeek_encoded     838814 non-null  int64         \n",
      " 9   Promo_encoded         838814 non-null  int64         \n",
      " 10  StateHoliday_encoded  838814 non-null  int64         \n",
      " 11  StoreType_encoded     838814 non-null  int64         \n",
      " 12  Assortment_encoded    838814 non-null  int64         \n",
      "dtypes: datetime64[ns](1), float64(6), int64(6)\n",
      "memory usage: 89.6 MB\n"
     ]
    }
   ],
   "source": [
    "# Final train set:\n",
    "columns_drop = [\n",
    "    'Promo2','SchoolHoliday_encoded' \n",
    "]\n",
    "# Drop the columns\n",
    "trainSet_SF = trainSet.drop(columns=columns_drop)\n",
    "trainSet_SF.info()"
   ]
  },
  {
   "cell_type": "code",
   "execution_count": 521,
   "id": "b14f10eb-a946-46d7-b705-e3d334c78662",
   "metadata": {},
   "outputs": [
    {
     "name": "stdout",
     "output_type": "stream",
     "text": [
      "X_train_SF shape: (642782, 11)\n",
      "X_test_SF shape: (196032, 11)\n"
     ]
    }
   ],
   "source": [
    "# Ensure data is sorted by Date\n",
    "trainSet_SF = trainSet_SF.sort_values(by='Date')\n",
    "\n",
    "# Define cutoff date for training and testing split\n",
    "cutoff_date = '2015-01-01'\n",
    "\n",
    "# Split into training and testing sets\n",
    "train_data_SF = trainSet_SF[trainSet_SF['Date'] < cutoff_date]\n",
    "test_data_SF = trainSet_SF[trainSet_SF['Date'] >= cutoff_date]\n",
    "\n",
    "# Separate features and target\n",
    "X_train_SF = train_data_SF.drop(columns=['Sales', 'Date'])\n",
    "y_train_SF = train_data_SF['Sales']\n",
    "\n",
    "X_test_SF = test_data_SF.drop(columns=['Sales', 'Date'])\n",
    "y_test_SF = test_data_SF['Sales']\n",
    "\n",
    "# Print shapes to confirm\n",
    "print(f\"X_train_SF shape: {X_train_SF.shape}\")\n",
    "print(f\"X_test_SF shape: {X_test_SF.shape}\")"
   ]
  },
  {
   "cell_type": "markdown",
   "id": "ef6b07ca-fa13-4000-863d-22d8208479ff",
   "metadata": {},
   "source": [
    "#### OLS"
   ]
  },
  {
   "cell_type": "code",
   "execution_count": 524,
   "id": "9f622c8b-44ea-4a1e-a175-424fd2a08d93",
   "metadata": {},
   "outputs": [
    {
     "name": "stdout",
     "output_type": "stream",
     "text": [
      "RMSPE on Test Set: 0.2806\n",
      "R² on Test Set: 0.6886\n"
     ]
    }
   ],
   "source": [
    "from sklearn.linear_model import LinearRegression\n",
    "from sklearn.metrics import make_scorer, r2_score\n",
    "\n",
    "# Define RMSPE scoring\n",
    "def rmspe(y_true, y_pred):\n",
    "    non_zero_mask = y_true != 0\n",
    "    percentage_errors = ((y_true[non_zero_mask] - y_pred[non_zero_mask]) / y_true[non_zero_mask]) ** 2\n",
    "    return np.sqrt(np.mean(percentage_errors))\n",
    "\n",
    "# Initialize OLS (LinearRegression)\n",
    "ols = LinearRegression()\n",
    "\n",
    "# Train the OLS model on the training set with selected features\n",
    "ols.fit(X_train_SF, y_train_SF)\n",
    "\n",
    "# Predict on the test set with selected features\n",
    "y_test_pred_SF = ols.predict(X_test_SF)\n",
    "\n",
    "# Evaluate RMSPE on the test set\n",
    "test_rmspe_SF = rmspe(y_test_SF, y_test_pred_SF)\n",
    "\n",
    "# Evaluate R² on the test set\n",
    "test_r2_SF = r2_score(y_test_SF, y_test_pred_SF)\n",
    "\n",
    "# Output the results\n",
    "print(f\"RMSPE on Test Set: {test_rmspe_SF:.4f}\")\n",
    "print(f\"R² on Test Set: {test_r2_SF:.4f}\")\n"
   ]
  },
  {
   "cell_type": "markdown",
   "id": "5a14fa85-4133-4159-903f-9d2b637320a4",
   "metadata": {},
   "source": [
    "#### Ridge Regression"
   ]
  },
  {
   "cell_type": "code",
   "execution_count": 527,
   "id": "d97227ca-381a-46a3-bff9-3a5e2fc76b1d",
   "metadata": {},
   "outputs": [
    {
     "name": "stdout",
     "output_type": "stream",
     "text": [
      "Best alpha: 1000\n",
      "RMSPE on Test Set: 0.2789\n",
      "R² on Test Set: 0.6839\n"
     ]
    }
   ],
   "source": [
    "from sklearn.linear_model import Ridge\n",
    "from sklearn.model_selection import GridSearchCV\n",
    "from sklearn.metrics import make_scorer, r2_score\n",
    "\n",
    "# Define RMSPE scoring\n",
    "def rmspe(y_true, y_pred):\n",
    "    non_zero_mask = y_true != 0\n",
    "    percentage_errors = ((y_true[non_zero_mask] - y_pred[non_zero_mask]) / y_true[non_zero_mask]) ** 2\n",
    "    return np.sqrt(np.mean(percentage_errors))\n",
    "\n",
    "rmspe_scorer = make_scorer(rmspe, greater_is_better=False)\n",
    "\n",
    "# Define parameter grid for alpha\n",
    "param_grid = {'alpha': [0.1, 1, 10, 100, 1000]}\n",
    "\n",
    "# Initialize Ridge Regression with GridSearchCV\n",
    "ridge_grid = GridSearchCV(Ridge(), param_grid, scoring=rmspe_scorer, cv=5)\n",
    "\n",
    "# Perform CV and hyperparameter tuning on the training set with selected features\n",
    "ridge_grid.fit(X_train_SF, y_train_SF)\n",
    "\n",
    "# Retrieve the best Ridge model\n",
    "best_ridge_SF = ridge_grid.best_estimator_\n",
    "\n",
    "# Predict on the test set with selected features\n",
    "y_test_pred_SF = best_ridge_SF.predict(X_test_SF)\n",
    "\n",
    "# Evaluate RMSPE on the test set\n",
    "test_rmspe_SF = rmspe(y_test_SF, y_test_pred_SF)\n",
    "\n",
    "# Evaluate R² on the test set\n",
    "test_r2_SF = r2_score(y_test_SF, y_test_pred_SF)\n",
    "\n",
    "# Output the results\n",
    "print(f\"Best alpha: {ridge_grid.best_params_['alpha']}\")\n",
    "print(f\"RMSPE on Test Set: {test_rmspe_SF:.4f}\")\n",
    "print(f\"R² on Test Set: {test_r2_SF:.4f}\")\n"
   ]
  },
  {
   "cell_type": "markdown",
   "id": "5188555a-5507-43d0-897e-a7bd2224bd9c",
   "metadata": {},
   "source": [
    "#### Lasso Regression"
   ]
  },
  {
   "cell_type": "code",
   "execution_count": 530,
   "id": "b074a25a-4cac-4f9d-9817-d36d004729e9",
   "metadata": {},
   "outputs": [
    {
     "name": "stdout",
     "output_type": "stream",
     "text": [
      "Best alpha: 0.0001\n",
      "RMSPE on Test Set: 0.2806\n",
      "R² on Test Set: 0.6886\n"
     ]
    }
   ],
   "source": [
    "from sklearn.linear_model import Lasso\n",
    "from sklearn.model_selection import GridSearchCV\n",
    "from sklearn.metrics import make_scorer, r2_score\n",
    "import numpy as np\n",
    "\n",
    "# Define RMSPE scoring\n",
    "def rmspe(y_true, y_pred):\n",
    "    non_zero_mask = y_true != 0\n",
    "    percentage_errors = ((y_true[non_zero_mask] - y_pred[non_zero_mask]) / y_true[non_zero_mask]) ** 2\n",
    "    return np.sqrt(np.mean(percentage_errors))\n",
    "\n",
    "rmspe_scorer = make_scorer(rmspe, greater_is_better=False)\n",
    "\n",
    "# Define parameter grid for alpha\n",
    "param_grid = {'alpha': [0.0001, 0.001, 0.01, 0.1, 1, 10]}\n",
    "\n",
    "# Initialize Lasso with GridSearchCV\n",
    "lasso_grid = GridSearchCV(Lasso(max_iter=10000), param_grid, scoring=rmspe_scorer, cv=5)\n",
    "\n",
    "# Perform CV and hyperparameter tuning on the training set with selected features\n",
    "lasso_grid.fit(X_train_SF, y_train_SF)\n",
    "\n",
    "# Retrieve the best Lasso model\n",
    "best_lasso_SF = lasso_grid.best_estimator_\n",
    "\n",
    "# Predict on the test set with selected features\n",
    "y_test_pred_SF = best_lasso_SF.predict(X_test_SF)\n",
    "\n",
    "# Evaluate RMSPE on the test set\n",
    "test_rmspe_SF = rmspe(y_test_SF, y_test_pred_SF)\n",
    "\n",
    "# Evaluate R² on the test set\n",
    "test_r2_SF = r2_score(y_test_SF, y_test_pred_SF)\n",
    "\n",
    "# Output the results\n",
    "print(f\"Best alpha: {lasso_grid.best_params_['alpha']}\")\n",
    "print(f\"RMSPE on Test Set: {test_rmspe_SF:.4f}\")\n",
    "print(f\"R² on Test Set: {test_r2_SF:.4f}\")"
   ]
  },
  {
   "cell_type": "markdown",
   "id": "ed1667f6-10cb-49a0-84b2-c74c97050cf5",
   "metadata": {},
   "source": [
    "#### MLP"
   ]
  },
  {
   "cell_type": "code",
   "execution_count": 123,
   "id": "6a654a31-5d74-46a5-9f03-ec462611fe03",
   "metadata": {},
   "outputs": [
    {
     "name": "stdout",
     "output_type": "stream",
     "text": [
      "Best hyperparameters: {'activation': 'relu', 'alpha': 0.0001, 'hidden_layer_sizes': (128,), 'learning_rate': 'constant', 'solver': 'adam'}\n",
      "RMSPE on Test Set: 0.1856\n",
      "R² on Test Set: 0.8664\n"
     ]
    },
    {
     "name": "stderr",
     "output_type": "stream",
     "text": [
      "C:\\Users\\USUARIO\\anaconda3\\Lib\\site-packages\\sklearn\\neural_network\\_multilayer_perceptron.py:690: ConvergenceWarning: Stochastic Optimizer: Maximum iterations (1000) reached and the optimization hasn't converged yet.\n",
      "  warnings.warn(\n"
     ]
    }
   ],
   "source": [
    "from sklearn.metrics import make_scorer, r2_score\n",
    "from sklearn.model_selection import GridSearchCV\n",
    "from sklearn.neural_network import MLPRegressor\n",
    "\n",
    "# Define RMSPE scoring\n",
    "def rmspe(y_true, y_pred):\n",
    "    non_zero_mask = y_true != 0\n",
    "    percentage_errors = ((y_true[non_zero_mask] - y_pred[non_zero_mask]) / y_true[non_zero_mask]) ** 2\n",
    "    return np.sqrt(np.mean(percentage_errors))\n",
    "\n",
    "rmspe_scorer = make_scorer(rmspe, greater_is_better=False)\n",
    "\n",
    "# Adjust grid size\n",
    "param_grid = {\n",
    "    'hidden_layer_sizes': [(64,), (128,)],  # Fewer configurations\n",
    "    'activation': ['relu'],  # Focus on one activation function\n",
    "    'solver': ['adam'],  # Keep one solver\n",
    "    'alpha': [0.0001, 0.001],  # Smaller range of regularization values\n",
    "    'learning_rate': ['constant'],  # Fix learning rate\n",
    "}\n",
    "\n",
    "# Initialize MLPRegressor\n",
    "mlp = MLPRegressor(max_iter=1000, random_state=42)\n",
    "\n",
    "# Perform GridSearchCV\n",
    "mlp_grid = GridSearchCV(mlp, param_grid, scoring=rmspe_scorer, cv=5, n_jobs=-1)\n",
    "mlp_grid.fit(X_train_SF, y_train_SF)\n",
    "\n",
    "# Best model\n",
    "best_mlp_SF = mlp_grid.best_estimator_\n",
    "\n",
    "# Test set evaluation\n",
    "y_test_pred_SF = best_mlp_SF.predict(X_test_SF)\n",
    "test_rmspe_SF = rmspe(y_test_SF, y_test_pred_SF)\n",
    "\n",
    "# Calculate R²\n",
    "test_r2_SF = r2_score(y_test_SF, y_test_pred_SF)\n",
    "\n",
    "# Output results\n",
    "print(f\"Best hyperparameters: {mlp_grid.best_params_}\")\n",
    "print(f\"RMSPE on Test Set: {test_rmspe_SF:.4f}\")\n",
    "print(f\"R² on Test Set: {test_r2_SF:.4f}\")\n"
   ]
  },
  {
   "cell_type": "markdown",
   "id": "1e38d5fc-59a9-4e80-8689-a12d24cdec2b",
   "metadata": {},
   "source": [
    "### 4. Forecasting Sales"
   ]
  },
  {
   "cell_type": "markdown",
   "id": "0700ceb4-10ed-495e-b3fd-6f8ed1abe7d1",
   "metadata": {},
   "source": [
    "#### 4.1. Lagged Features"
   ]
  },
  {
   "cell_type": "code",
   "execution_count": 858,
   "id": "18f0a1b9-88db-4aa9-a310-2c89e75496f2",
   "metadata": {},
   "outputs": [
    {
     "name": "stdout",
     "output_type": "stream",
     "text": [
      "<class 'pandas.core.frame.DataFrame'>\n",
      "Index: 838814 entries, 862 to 1016970\n",
      "Data columns (total 16 columns):\n",
      " #   Column                 Non-Null Count   Dtype         \n",
      "---  ------                 --------------   -----         \n",
      " 0   Store                  838814 non-null  int64         \n",
      " 1   Date                   838814 non-null  datetime64[ns]\n",
      " 2   Sales                  838814 non-null  int64         \n",
      " 3   CompetitionDistance    838814 non-null  int64         \n",
      " 4   Promo2                 838814 non-null  int64         \n",
      " 5   DiffTimeMonths         838814 non-null  int64         \n",
      " 6   DiffPromoTimeMonths    838814 non-null  int64         \n",
      " 7   Lag_1                  838814 non-null  float64       \n",
      " 8   Lag_7                  838814 non-null  float64       \n",
      " 9   Rolling_Mean_7         838814 non-null  float64       \n",
      " 10  DayOfWeek_encoded      838814 non-null  int64         \n",
      " 11  Promo_encoded          838814 non-null  int64         \n",
      " 12  StateHoliday_encoded   838814 non-null  int64         \n",
      " 13  SchoolHoliday_encoded  838814 non-null  int64         \n",
      " 14  StoreType_encoded      838814 non-null  int64         \n",
      " 15  Assortment_encoded     838814 non-null  int64         \n",
      "dtypes: datetime64[ns](1), float64(3), int64(12)\n",
      "memory usage: 108.8 MB\n"
     ]
    }
   ],
   "source": [
    "# Final train set:\n",
    "columns_drop = [\n",
    "    'DayOfWeek','Customers', 'Open',\n",
    "    'StateHoliday', 'SchoolHoliday', 'StoreType',\n",
    "    'Assortment', 'CompetitionOpenDate','PromoDate','Promo' \n",
    "]\n",
    "# Drop the columns\n",
    "forecastTrain = forecastTrain.drop(columns=columns_drop)\n",
    "forecastTrain.info()"
   ]
  },
  {
   "cell_type": "code",
   "execution_count": 860,
   "id": "4373824e-d48b-493e-a08e-60160aab95cd",
   "metadata": {},
   "outputs": [],
   "source": [
    "# Standardize only the numerical variables while keeping dummy variables and encoded factors intact:\n",
    "from sklearn.preprocessing import MinMaxScaler\n",
    "\n",
    "# List numerical variables to standardize\n",
    "numerical_features = [\n",
    "    'CompetitionDistance', 'DiffTimeMonths', 'DiffPromoTimeMonths',\n",
    "    'Lag_1','Lag_7','Rolling_Mean_7'\n",
    "]\n",
    "\n",
    "# Initialize the scaler\n",
    "scaler = MinMaxScaler(feature_range=(-1, 1))\n",
    "\n",
    "# Apply scaling to numerical features\n",
    "scaled_values = scaler.fit_transform(forecastTrain[numerical_features])\n",
    "\n",
    "# Replace original columns with scaled values\n",
    "forecastTrain[numerical_features] = scaled_values"
   ]
  },
  {
   "cell_type": "code",
   "execution_count": 862,
   "id": "f21e2105-12f9-4b65-8a39-700e168c73ce",
   "metadata": {},
   "outputs": [],
   "source": [
    "# Sort forecastTrain by Store and Date\n",
    "forecastTrain_sorted = forecastTrain.sort_values(by=['Store', 'Date'])\n",
    "\n",
    "# Retrieve the last available raw sales (Lag_1) for each store\n",
    "last_day_sales = forecastTrain_sorted.groupby('Store').tail(1).rename(columns={'Sales': 'Raw_Lag_1'})\n",
    "\n",
    "# Retrieve sales from 7 days ago (Lag_7) for each store\n",
    "seven_days_ago_sales = (\n",
    "    forecastTrain_sorted.groupby('Store').tail(7)\n",
    "    .groupby('Store')\n",
    "    .head(1)\n",
    "    .rename(columns={'Sales': 'Raw_Lag_7'})\n",
    ")\n",
    "\n",
    "# Merge raw lagged features into a single DataFrame\n",
    "historical_sales = pd.merge(\n",
    "    last_day_sales[['Store', 'Raw_Lag_1']],\n",
    "    seven_days_ago_sales[['Store', 'Raw_Lag_7']],\n",
    "    on='Store'\n",
    ")"
   ]
  },
  {
   "cell_type": "code",
   "execution_count": 864,
   "id": "a2b0beb7-9495-4080-bfb6-df039081831c",
   "metadata": {},
   "outputs": [],
   "source": [
    "# Ensure forecastTrain is sorted by Store and Date\n",
    "forecastTrain_sorted = forecastTrain.sort_values(by=['Store', 'Date'])\n",
    "\n",
    "# Calculate the rolling mean (7 days) for each store\n",
    "forecastTrain_sorted['Rolling_Mean_7'] = (\n",
    "    forecastTrain_sorted.groupby('Store')['Sales']\n",
    "    .rolling(window=7, min_periods=1)\n",
    "    .mean()\n",
    "    .reset_index(level=0, drop=True)\n",
    ")\n",
    "\n",
    "# Retrieve the last available rolling mean for each store\n",
    "rolling_mean_7 = (\n",
    "    forecastTrain_sorted.groupby('Store').tail(1)[['Store', 'Rolling_Mean_7']]\n",
    ")"
   ]
  },
  {
   "cell_type": "code",
   "execution_count": 866,
   "id": "4b53e7b9-9a1f-4b78-a9be-43caa66f22a4",
   "metadata": {},
   "outputs": [
    {
     "name": "stdout",
     "output_type": "stream",
     "text": [
      "   Store  Rolling_Mean_7  Raw_Lag_1  Raw_Lag_7\n",
      "0      1     4892.571429       5263       3706\n",
      "1      2     5242.428571       6064       3854\n",
      "2      3     7261.428571       8314       5080\n",
      "3      4    10661.000000      13995       8322\n",
      "4      5     4950.142857       4822       3815\n"
     ]
    }
   ],
   "source": [
    "# Merge the two tables on 'Store'\n",
    "merged_data = pd.merge(\n",
    "    left=rolling_mean_7,  # Replace with the name of the first table\n",
    "    right=historical_sales,  # Replace with the name of the second table\n",
    "    on='Store',\n",
    "    how='inner'  # Use 'inner' join as both tables have the same number of entries for 'Store'\n",
    ")\n",
    "\n",
    "# Display the merged data\n",
    "print(merged_data.head())"
   ]
  },
  {
   "cell_type": "code",
   "execution_count": 868,
   "id": "d14248ca-dcbf-4410-a635-40526c1d496d",
   "metadata": {},
   "outputs": [
    {
     "name": "stdout",
     "output_type": "stream",
     "text": [
      "   Store  Rolling_Mean_7  Lag_1  Lag_7\n",
      "0      1     4892.571429   5263   3706\n",
      "1      2     5242.428571   6064   3854\n",
      "2      3     7261.428571   8314   5080\n",
      "3      4    10661.000000  13995   8322\n",
      "4      5     4950.142857   4822   3815\n"
     ]
    }
   ],
   "source": [
    "# Rename the columns\n",
    "merged_data = merged_data.rename(columns={\n",
    "    'Store': 'Store',\n",
    "    'Rolling_Mean_7': 'Rolling_Mean_7',\n",
    "    'Raw_Lag_1': 'Lag_1',\n",
    "    'Raw_Lag_7': 'Lag_7'\n",
    "})\n",
    "\n",
    "# Display the updated DataFrame\n",
    "print(merged_data.head())"
   ]
  },
  {
   "cell_type": "code",
   "execution_count": 870,
   "id": "19c6986c-d73d-4f5a-a2c9-00a38e1742ef",
   "metadata": {},
   "outputs": [],
   "source": [
    "# Merge the lagged features into testSet\n",
    "testSet = pd.merge(testSet, merged_data, on='Store', how='left')"
   ]
  },
  {
   "cell_type": "code",
   "execution_count": 874,
   "id": "5d644f20-d80b-4d28-a59e-2d5a53b89fac",
   "metadata": {},
   "outputs": [
    {
     "data": {
      "text/html": [
       "<div>\n",
       "<style scoped>\n",
       "    .dataframe tbody tr th:only-of-type {\n",
       "        vertical-align: middle;\n",
       "    }\n",
       "\n",
       "    .dataframe tbody tr th {\n",
       "        vertical-align: top;\n",
       "    }\n",
       "\n",
       "    .dataframe thead th {\n",
       "        text-align: right;\n",
       "    }\n",
       "</style>\n",
       "<table border=\"1\" class=\"dataframe\">\n",
       "  <thead>\n",
       "    <tr style=\"text-align: right;\">\n",
       "      <th></th>\n",
       "      <th>Store</th>\n",
       "      <th>DayOfWeek</th>\n",
       "      <th>Date</th>\n",
       "      <th>Sales</th>\n",
       "      <th>Customers</th>\n",
       "      <th>Open</th>\n",
       "      <th>Promo</th>\n",
       "      <th>StateHoliday</th>\n",
       "      <th>SchoolHoliday</th>\n",
       "      <th>StoreType</th>\n",
       "      <th>Assortment</th>\n",
       "      <th>CompetitionDistance</th>\n",
       "      <th>Promo2</th>\n",
       "      <th>DiffTimeMonths</th>\n",
       "      <th>DiffPromoTimeMonths</th>\n",
       "      <th>Rolling_Mean_7</th>\n",
       "      <th>Lag_1</th>\n",
       "      <th>Lag_7</th>\n",
       "    </tr>\n",
       "  </thead>\n",
       "  <tbody>\n",
       "    <tr>\n",
       "      <th>41083</th>\n",
       "      <td>1115</td>\n",
       "      <td>Sunday</td>\n",
       "      <td>2015-08-23</td>\n",
       "      <td>NaN</td>\n",
       "      <td>NaN</td>\n",
       "      <td>0.0</td>\n",
       "      <td>0</td>\n",
       "      <td>NaN</td>\n",
       "      <td>1</td>\n",
       "      <td>Type D</td>\n",
       "      <td>Extended</td>\n",
       "      <td>5350</td>\n",
       "      <td>1</td>\n",
       "      <td>34</td>\n",
       "      <td>38</td>\n",
       "      <td>8037.714286</td>\n",
       "      <td>8680</td>\n",
       "      <td>5816</td>\n",
       "    </tr>\n",
       "    <tr>\n",
       "      <th>41084</th>\n",
       "      <td>1115</td>\n",
       "      <td>Monday</td>\n",
       "      <td>2015-09-14</td>\n",
       "      <td>NaN</td>\n",
       "      <td>NaN</td>\n",
       "      <td>1.0</td>\n",
       "      <td>1</td>\n",
       "      <td>NaN</td>\n",
       "      <td>0</td>\n",
       "      <td>Type D</td>\n",
       "      <td>Extended</td>\n",
       "      <td>5350</td>\n",
       "      <td>1</td>\n",
       "      <td>34</td>\n",
       "      <td>38</td>\n",
       "      <td>8037.714286</td>\n",
       "      <td>8680</td>\n",
       "      <td>5816</td>\n",
       "    </tr>\n",
       "    <tr>\n",
       "      <th>41085</th>\n",
       "      <td>1115</td>\n",
       "      <td>Saturday</td>\n",
       "      <td>2015-08-08</td>\n",
       "      <td>NaN</td>\n",
       "      <td>NaN</td>\n",
       "      <td>1.0</td>\n",
       "      <td>0</td>\n",
       "      <td>NaN</td>\n",
       "      <td>1</td>\n",
       "      <td>Type D</td>\n",
       "      <td>Extended</td>\n",
       "      <td>5350</td>\n",
       "      <td>1</td>\n",
       "      <td>34</td>\n",
       "      <td>38</td>\n",
       "      <td>8037.714286</td>\n",
       "      <td>8680</td>\n",
       "      <td>5816</td>\n",
       "    </tr>\n",
       "    <tr>\n",
       "      <th>41086</th>\n",
       "      <td>1115</td>\n",
       "      <td>Sunday</td>\n",
       "      <td>2015-08-30</td>\n",
       "      <td>NaN</td>\n",
       "      <td>NaN</td>\n",
       "      <td>0.0</td>\n",
       "      <td>0</td>\n",
       "      <td>NaN</td>\n",
       "      <td>1</td>\n",
       "      <td>Type D</td>\n",
       "      <td>Extended</td>\n",
       "      <td>5350</td>\n",
       "      <td>1</td>\n",
       "      <td>34</td>\n",
       "      <td>38</td>\n",
       "      <td>8037.714286</td>\n",
       "      <td>8680</td>\n",
       "      <td>5816</td>\n",
       "    </tr>\n",
       "    <tr>\n",
       "      <th>41087</th>\n",
       "      <td>1115</td>\n",
       "      <td>Saturday</td>\n",
       "      <td>2015-08-01</td>\n",
       "      <td>NaN</td>\n",
       "      <td>NaN</td>\n",
       "      <td>1.0</td>\n",
       "      <td>0</td>\n",
       "      <td>NaN</td>\n",
       "      <td>1</td>\n",
       "      <td>Type D</td>\n",
       "      <td>Extended</td>\n",
       "      <td>5350</td>\n",
       "      <td>1</td>\n",
       "      <td>34</td>\n",
       "      <td>38</td>\n",
       "      <td>8037.714286</td>\n",
       "      <td>8680</td>\n",
       "      <td>5816</td>\n",
       "    </tr>\n",
       "  </tbody>\n",
       "</table>\n",
       "</div>"
      ],
      "text/plain": [
       "       Store DayOfWeek        Date  Sales  Customers  Open  Promo  \\\n",
       "41083   1115    Sunday  2015-08-23    NaN        NaN   0.0      0   \n",
       "41084   1115    Monday  2015-09-14    NaN        NaN   1.0      1   \n",
       "41085   1115  Saturday  2015-08-08    NaN        NaN   1.0      0   \n",
       "41086   1115    Sunday  2015-08-30    NaN        NaN   0.0      0   \n",
       "41087   1115  Saturday  2015-08-01    NaN        NaN   1.0      0   \n",
       "\n",
       "      StateHoliday  SchoolHoliday StoreType Assortment  CompetitionDistance  \\\n",
       "41083          NaN              1    Type D   Extended                 5350   \n",
       "41084          NaN              0    Type D   Extended                 5350   \n",
       "41085          NaN              1    Type D   Extended                 5350   \n",
       "41086          NaN              1    Type D   Extended                 5350   \n",
       "41087          NaN              1    Type D   Extended                 5350   \n",
       "\n",
       "       Promo2  DiffTimeMonths  DiffPromoTimeMonths  Rolling_Mean_7  Lag_1  \\\n",
       "41083       1              34                   38     8037.714286   8680   \n",
       "41084       1              34                   38     8037.714286   8680   \n",
       "41085       1              34                   38     8037.714286   8680   \n",
       "41086       1              34                   38     8037.714286   8680   \n",
       "41087       1              34                   38     8037.714286   8680   \n",
       "\n",
       "       Lag_7  \n",
       "41083   5816  \n",
       "41084   5816  \n",
       "41085   5816  \n",
       "41086   5816  \n",
       "41087   5816  "
      ]
     },
     "execution_count": 874,
     "metadata": {},
     "output_type": "execute_result"
    }
   ],
   "source": [
    "testSet.tail()"
   ]
  },
  {
   "cell_type": "markdown",
   "id": "3d2a55d1-ca5e-4897-a1e2-be9e8b45e63a",
   "metadata": {},
   "source": [
    "#### Preparing Test Set"
   ]
  },
  {
   "cell_type": "code",
   "execution_count": 876,
   "id": "39c629f1-2f6e-42b1-aede-0dc61e954b59",
   "metadata": {},
   "outputs": [],
   "source": [
    "from sklearn.preprocessing import LabelEncoder\n",
    "label_encoder = LabelEncoder()"
   ]
  },
  {
   "cell_type": "code",
   "execution_count": 878,
   "id": "126d9b4e-8b88-4a53-a34a-d3a088b65583",
   "metadata": {},
   "outputs": [
    {
     "name": "stdout",
     "output_type": "stream",
     "text": [
      "Label Mapping: {'Friday': 0, 'Monday': 1, 'Saturday': 2, 'Sunday': 3, 'Thursday': 4, 'Tuesday': 5, 'Wednesday': 6}\n"
     ]
    }
   ],
   "source": [
    "# Transform the 'DayOfWeek' column\n",
    "testSet['DayOfWeek_encoded'] = label_encoder.fit_transform(testSet['DayOfWeek'])\n",
    "\n",
    "# Check the mapping of categories to integers\n",
    "label_mapping = dict(zip(label_encoder.classes_, range(len(label_encoder.classes_))))\n",
    "print(\"Label Mapping:\", label_mapping)"
   ]
  },
  {
   "cell_type": "code",
   "execution_count": 880,
   "id": "2dde42e4-b212-49d9-b2d2-a3c14f5ec9db",
   "metadata": {},
   "outputs": [
    {
     "name": "stdout",
     "output_type": "stream",
     "text": [
      "Label Mapping: {0: 0, 1: 1}\n"
     ]
    }
   ],
   "source": [
    "# Transform 'Promo' column\n",
    "testSet['Promo_encoded'] = label_encoder.fit_transform(testSet['Promo'])\n",
    "\n",
    "# Check the mapping of categories to integers\n",
    "label_mapping = dict(zip(label_encoder.classes_, range(len(label_encoder.classes_))))\n",
    "print(\"Label Mapping:\", label_mapping)"
   ]
  },
  {
   "cell_type": "code",
   "execution_count": 882,
   "id": "6e252bb4-9bc1-4b88-aa8e-aff5abb3d808",
   "metadata": {},
   "outputs": [
    {
     "name": "stdout",
     "output_type": "stream",
     "text": [
      "Label Mapping: {'Public Holiday': 2, nan: 3}\n"
     ]
    }
   ],
   "source": [
    "# Define the custom mapping, including NaN explicitly\n",
    "custom_mapping = {\n",
    "    'Public Holiday': 2,\n",
    "    np.nan: 3  # Explicitly handle NaN\n",
    "}\n",
    "\n",
    "# Use a lambda function to handle NaN values with map()\n",
    "testSet['StateHoliday_encoded'] = testSet['StateHoliday'].apply(\n",
    "    lambda x: custom_mapping.get(x, 3) if pd.isna(x) else custom_mapping.get(x)\n",
    ")\n",
    "print(\"Label Mapping:\", custom_mapping)"
   ]
  },
  {
   "cell_type": "code",
   "execution_count": 884,
   "id": "5117c4bf-9ed4-4b65-bf92-8f8115c5a2bc",
   "metadata": {},
   "outputs": [
    {
     "name": "stdout",
     "output_type": "stream",
     "text": [
      "Label Mapping: {0: 0, 1: 1}\n"
     ]
    }
   ],
   "source": [
    "# Transform the 'SchoolHoliday' column\n",
    "testSet['SchoolHoliday_encoded'] = label_encoder.fit_transform(testSet['SchoolHoliday'])\n",
    "\n",
    "# Check the mapping of categories to integers\n",
    "label_mapping = dict(zip(label_encoder.classes_, range(len(label_encoder.classes_))))\n",
    "print(\"Label Mapping:\", label_mapping)"
   ]
  },
  {
   "cell_type": "code",
   "execution_count": 886,
   "id": "9b5f1831-d330-4280-a00f-93d4b1d735c9",
   "metadata": {},
   "outputs": [
    {
     "name": "stdout",
     "output_type": "stream",
     "text": [
      "Label Mapping: {'Type A': 0, 'Type B': 1, 'Type C': 2, 'Type D': 3}\n"
     ]
    }
   ],
   "source": [
    "# Transform the 'StoreType' column\n",
    "testSet['StoreType_encoded'] = label_encoder.fit_transform(testSet['StoreType'])\n",
    "\n",
    "# Check the mapping of categories to integers\n",
    "label_mapping = dict(zip(label_encoder.classes_, range(len(label_encoder.classes_))))\n",
    "print(\"Label Mapping:\", label_mapping)"
   ]
  },
  {
   "cell_type": "code",
   "execution_count": 888,
   "id": "59307204-1217-4e28-a091-26197d326071",
   "metadata": {},
   "outputs": [
    {
     "name": "stdout",
     "output_type": "stream",
     "text": [
      "Label Mapping: {'Basic': 0, 'Extended': 1, 'Extra': 2}\n"
     ]
    }
   ],
   "source": [
    "# Transform the 'Assortment' column\n",
    "testSet['Assortment_encoded'] = label_encoder.fit_transform(testSet['Assortment'])\n",
    "\n",
    "# Check the mapping of categories to integers\n",
    "label_mapping = dict(zip(label_encoder.classes_, range(len(label_encoder.classes_))))\n",
    "print(\"Label Mapping:\", label_mapping)"
   ]
  },
  {
   "cell_type": "code",
   "execution_count": 890,
   "id": "2cccc80f-e280-4db8-afaa-4a70a8614c67",
   "metadata": {},
   "outputs": [],
   "source": [
    "# Only with open stores. Use testSet for the final composition of data with closed stores.\n",
    "forecasting_testSet = testSet[testSet['Open'] == 1]"
   ]
  },
  {
   "cell_type": "code",
   "execution_count": 892,
   "id": "2ac3b53f-06c2-441c-876e-1df68184b72c",
   "metadata": {},
   "outputs": [
    {
     "name": "stdout",
     "output_type": "stream",
     "text": [
      "<class 'pandas.core.frame.DataFrame'>\n",
      "Index: 35093 entries, 0 to 41087\n",
      "Data columns (total 15 columns):\n",
      " #   Column                 Non-Null Count  Dtype  \n",
      "---  ------                 --------------  -----  \n",
      " 0   Date                   35093 non-null  object \n",
      " 1   Sales                  0 non-null      float64\n",
      " 2   CompetitionDistance    35093 non-null  int64  \n",
      " 3   Promo2                 35093 non-null  int64  \n",
      " 4   DiffTimeMonths         35093 non-null  int64  \n",
      " 5   DiffPromoTimeMonths    35093 non-null  int64  \n",
      " 6   Rolling_Mean_7         35093 non-null  float64\n",
      " 7   Lag_1                  35093 non-null  int64  \n",
      " 8   Lag_7                  35093 non-null  int64  \n",
      " 9   DayOfWeek_encoded      35093 non-null  int64  \n",
      " 10  Promo_encoded          35093 non-null  int64  \n",
      " 11  StateHoliday_encoded   35093 non-null  int64  \n",
      " 12  SchoolHoliday_encoded  35093 non-null  int64  \n",
      " 13  StoreType_encoded      35093 non-null  int64  \n",
      " 14  Assortment_encoded     35093 non-null  int64  \n",
      "dtypes: float64(2), int64(12), object(1)\n",
      "memory usage: 4.3+ MB\n"
     ]
    }
   ],
   "source": [
    "# Final train set:\n",
    "columns_drop = [\n",
    "    'Store', 'DayOfWeek','Customers', 'Open',\n",
    "    'StateHoliday', 'SchoolHoliday', 'StoreType',\n",
    "    'Assortment','Promo' \n",
    "]\n",
    "# Drop the columns\n",
    "forecasting_testSet = forecasting_testSet.drop(columns=columns_drop)\n",
    "forecasting_testSet.info()"
   ]
  },
  {
   "cell_type": "code",
   "execution_count": 896,
   "id": "c28751fa-3d25-42b8-bfe2-802333fb0801",
   "metadata": {},
   "outputs": [],
   "source": [
    "# Standardize only the numerical variables while keeping dummy variables and encoded factors intact:\n",
    "from sklearn.preprocessing import MinMaxScaler\n",
    "\n",
    "# List numerical variables to standardize\n",
    "numerical_features = [\n",
    "    'CompetitionDistance', 'DiffTimeMonths', 'DiffPromoTimeMonths',\n",
    "    'Lag_1','Lag_7','Rolling_Mean_7'\n",
    "]\n",
    "\n",
    "forecasting_testSet[numerical_features] = scaler.transform(forecasting_testSet[numerical_features])"
   ]
  },
  {
   "cell_type": "code",
   "execution_count": 918,
   "id": "bd5c52f4-e2f8-4362-a657-a6f0b1dee112",
   "metadata": {},
   "outputs": [
    {
     "data": {
      "text/html": [
       "<div>\n",
       "<style scoped>\n",
       "    .dataframe tbody tr th:only-of-type {\n",
       "        vertical-align: middle;\n",
       "    }\n",
       "\n",
       "    .dataframe tbody tr th {\n",
       "        vertical-align: top;\n",
       "    }\n",
       "\n",
       "    .dataframe thead th {\n",
       "        text-align: right;\n",
       "    }\n",
       "</style>\n",
       "<table border=\"1\" class=\"dataframe\">\n",
       "  <thead>\n",
       "    <tr style=\"text-align: right;\">\n",
       "      <th></th>\n",
       "      <th>Date</th>\n",
       "      <th>Sales</th>\n",
       "      <th>CompetitionDistance</th>\n",
       "      <th>Promo2</th>\n",
       "      <th>DiffTimeMonths</th>\n",
       "      <th>DiffPromoTimeMonths</th>\n",
       "      <th>Rolling_Mean_7</th>\n",
       "      <th>Lag_1</th>\n",
       "      <th>Lag_7</th>\n",
       "      <th>DayOfWeek_encoded</th>\n",
       "      <th>Promo_encoded</th>\n",
       "      <th>StateHoliday_encoded</th>\n",
       "      <th>SchoolHoliday_encoded</th>\n",
       "      <th>StoreType_encoded</th>\n",
       "      <th>Assortment_encoded</th>\n",
       "    </tr>\n",
       "  </thead>\n",
       "  <tbody>\n",
       "    <tr>\n",
       "      <th>0</th>\n",
       "      <td>2015-09-17</td>\n",
       "      <td>NaN</td>\n",
       "      <td>-0.967036</td>\n",
       "      <td>0</td>\n",
       "      <td>-0.881674</td>\n",
       "      <td>-1.0</td>\n",
       "      <td>-0.66695</td>\n",
       "      <td>-0.746673</td>\n",
       "      <td>-0.821617</td>\n",
       "      <td>4</td>\n",
       "      <td>1</td>\n",
       "      <td>3</td>\n",
       "      <td>0</td>\n",
       "      <td>2</td>\n",
       "      <td>0</td>\n",
       "    </tr>\n",
       "    <tr>\n",
       "      <th>1</th>\n",
       "      <td>2015-08-19</td>\n",
       "      <td>NaN</td>\n",
       "      <td>-0.967036</td>\n",
       "      <td>0</td>\n",
       "      <td>-0.881674</td>\n",
       "      <td>-1.0</td>\n",
       "      <td>-0.66695</td>\n",
       "      <td>-0.746673</td>\n",
       "      <td>-0.821617</td>\n",
       "      <td>6</td>\n",
       "      <td>1</td>\n",
       "      <td>3</td>\n",
       "      <td>1</td>\n",
       "      <td>2</td>\n",
       "      <td>0</td>\n",
       "    </tr>\n",
       "    <tr>\n",
       "      <th>2</th>\n",
       "      <td>2015-09-10</td>\n",
       "      <td>NaN</td>\n",
       "      <td>-0.967036</td>\n",
       "      <td>0</td>\n",
       "      <td>-0.881674</td>\n",
       "      <td>-1.0</td>\n",
       "      <td>-0.66695</td>\n",
       "      <td>-0.746673</td>\n",
       "      <td>-0.821617</td>\n",
       "      <td>4</td>\n",
       "      <td>0</td>\n",
       "      <td>3</td>\n",
       "      <td>0</td>\n",
       "      <td>2</td>\n",
       "      <td>0</td>\n",
       "    </tr>\n",
       "    <tr>\n",
       "      <th>3</th>\n",
       "      <td>2015-08-04</td>\n",
       "      <td>NaN</td>\n",
       "      <td>-0.967036</td>\n",
       "      <td>0</td>\n",
       "      <td>-0.881674</td>\n",
       "      <td>-1.0</td>\n",
       "      <td>-0.66695</td>\n",
       "      <td>-0.746673</td>\n",
       "      <td>-0.821617</td>\n",
       "      <td>5</td>\n",
       "      <td>1</td>\n",
       "      <td>3</td>\n",
       "      <td>1</td>\n",
       "      <td>2</td>\n",
       "      <td>0</td>\n",
       "    </tr>\n",
       "    <tr>\n",
       "      <th>4</th>\n",
       "      <td>2015-08-26</td>\n",
       "      <td>NaN</td>\n",
       "      <td>-0.967036</td>\n",
       "      <td>0</td>\n",
       "      <td>-0.881674</td>\n",
       "      <td>-1.0</td>\n",
       "      <td>-0.66695</td>\n",
       "      <td>-0.746673</td>\n",
       "      <td>-0.821617</td>\n",
       "      <td>6</td>\n",
       "      <td>0</td>\n",
       "      <td>3</td>\n",
       "      <td>1</td>\n",
       "      <td>2</td>\n",
       "      <td>0</td>\n",
       "    </tr>\n",
       "  </tbody>\n",
       "</table>\n",
       "</div>"
      ],
      "text/plain": [
       "         Date  Sales  CompetitionDistance  Promo2  DiffTimeMonths  \\\n",
       "0  2015-09-17    NaN            -0.967036       0       -0.881674   \n",
       "1  2015-08-19    NaN            -0.967036       0       -0.881674   \n",
       "2  2015-09-10    NaN            -0.967036       0       -0.881674   \n",
       "3  2015-08-04    NaN            -0.967036       0       -0.881674   \n",
       "4  2015-08-26    NaN            -0.967036       0       -0.881674   \n",
       "\n",
       "   DiffPromoTimeMonths  Rolling_Mean_7     Lag_1     Lag_7  DayOfWeek_encoded  \\\n",
       "0                 -1.0        -0.66695 -0.746673 -0.821617                  4   \n",
       "1                 -1.0        -0.66695 -0.746673 -0.821617                  6   \n",
       "2                 -1.0        -0.66695 -0.746673 -0.821617                  4   \n",
       "3                 -1.0        -0.66695 -0.746673 -0.821617                  5   \n",
       "4                 -1.0        -0.66695 -0.746673 -0.821617                  6   \n",
       "\n",
       "   Promo_encoded  StateHoliday_encoded  SchoolHoliday_encoded  \\\n",
       "0              1                     3                      0   \n",
       "1              1                     3                      1   \n",
       "2              0                     3                      0   \n",
       "3              1                     3                      1   \n",
       "4              0                     3                      1   \n",
       "\n",
       "   StoreType_encoded  Assortment_encoded  \n",
       "0                  2                   0  \n",
       "1                  2                   0  \n",
       "2                  2                   0  \n",
       "3                  2                   0  \n",
       "4                  2                   0  "
      ]
     },
     "execution_count": 918,
     "metadata": {},
     "output_type": "execute_result"
    }
   ],
   "source": [
    "forecasting_testSet.head()"
   ]
  },
  {
   "cell_type": "markdown",
   "id": "03ad3f65-073b-4904-83e7-31b8279f7316",
   "metadata": {},
   "source": [
    "#### Running MLP with the whole training set"
   ]
  },
  {
   "cell_type": "code",
   "execution_count": 914,
   "id": "f255c994-6345-450f-9e7e-f9de786f9c16",
   "metadata": {},
   "outputs": [
    {
     "data": {
      "text/html": [
       "<div>\n",
       "<style scoped>\n",
       "    .dataframe tbody tr th:only-of-type {\n",
       "        vertical-align: middle;\n",
       "    }\n",
       "\n",
       "    .dataframe tbody tr th {\n",
       "        vertical-align: top;\n",
       "    }\n",
       "\n",
       "    .dataframe thead th {\n",
       "        text-align: right;\n",
       "    }\n",
       "</style>\n",
       "<table border=\"1\" class=\"dataframe\">\n",
       "  <thead>\n",
       "    <tr style=\"text-align: right;\">\n",
       "      <th></th>\n",
       "      <th>Date</th>\n",
       "      <th>Sales</th>\n",
       "      <th>CompetitionDistance</th>\n",
       "      <th>Promo2</th>\n",
       "      <th>DiffTimeMonths</th>\n",
       "      <th>DiffPromoTimeMonths</th>\n",
       "      <th>Lag_1</th>\n",
       "      <th>Lag_7</th>\n",
       "      <th>Rolling_Mean_7</th>\n",
       "      <th>DayOfWeek_encoded</th>\n",
       "      <th>Promo_encoded</th>\n",
       "      <th>StateHoliday_encoded</th>\n",
       "      <th>SchoolHoliday_encoded</th>\n",
       "      <th>StoreType_encoded</th>\n",
       "      <th>Assortment_encoded</th>\n",
       "    </tr>\n",
       "  </thead>\n",
       "  <tbody>\n",
       "    <tr>\n",
       "      <th>1016326</th>\n",
       "      <td>2015-07-27</td>\n",
       "      <td>10712</td>\n",
       "      <td>-0.859441</td>\n",
       "      <td>1</td>\n",
       "      <td>-0.950938</td>\n",
       "      <td>0.070423</td>\n",
       "      <td>-1.000000</td>\n",
       "      <td>-0.707203</td>\n",
       "      <td>-0.656117</td>\n",
       "      <td>1</td>\n",
       "      <td>1</td>\n",
       "      <td>3</td>\n",
       "      <td>1</td>\n",
       "      <td>3</td>\n",
       "      <td>1</td>\n",
       "    </tr>\n",
       "    <tr>\n",
       "      <th>1017033</th>\n",
       "      <td>2015-07-28</td>\n",
       "      <td>8093</td>\n",
       "      <td>-0.859441</td>\n",
       "      <td>1</td>\n",
       "      <td>-0.950938</td>\n",
       "      <td>0.070423</td>\n",
       "      <td>-0.484393</td>\n",
       "      <td>-0.755770</td>\n",
       "      <td>-0.611102</td>\n",
       "      <td>5</td>\n",
       "      <td>1</td>\n",
       "      <td>3</td>\n",
       "      <td>1</td>\n",
       "      <td>3</td>\n",
       "      <td>1</td>\n",
       "    </tr>\n",
       "    <tr>\n",
       "      <th>1017014</th>\n",
       "      <td>2015-07-29</td>\n",
       "      <td>7661</td>\n",
       "      <td>-0.859441</td>\n",
       "      <td>1</td>\n",
       "      <td>-0.950938</td>\n",
       "      <td>0.070423</td>\n",
       "      <td>-0.610455</td>\n",
       "      <td>-0.742870</td>\n",
       "      <td>-0.581743</td>\n",
       "      <td>6</td>\n",
       "      <td>1</td>\n",
       "      <td>3</td>\n",
       "      <td>1</td>\n",
       "      <td>3</td>\n",
       "      <td>1</td>\n",
       "    </tr>\n",
       "    <tr>\n",
       "      <th>1016992</th>\n",
       "      <td>2015-07-30</td>\n",
       "      <td>8405</td>\n",
       "      <td>-0.859441</td>\n",
       "      <td>1</td>\n",
       "      <td>-0.950938</td>\n",
       "      <td>0.070423</td>\n",
       "      <td>-0.631248</td>\n",
       "      <td>-0.703978</td>\n",
       "      <td>-0.559191</td>\n",
       "      <td>4</td>\n",
       "      <td>1</td>\n",
       "      <td>3</td>\n",
       "      <td>1</td>\n",
       "      <td>3</td>\n",
       "      <td>1</td>\n",
       "    </tr>\n",
       "    <tr>\n",
       "      <th>1016970</th>\n",
       "      <td>2015-07-31</td>\n",
       "      <td>8680</td>\n",
       "      <td>-0.859441</td>\n",
       "      <td>1</td>\n",
       "      <td>-0.950938</td>\n",
       "      <td>0.070423</td>\n",
       "      <td>-0.595437</td>\n",
       "      <td>-0.720055</td>\n",
       "      <td>-0.537262</td>\n",
       "      <td>0</td>\n",
       "      <td>1</td>\n",
       "      <td>3</td>\n",
       "      <td>1</td>\n",
       "      <td>3</td>\n",
       "      <td>1</td>\n",
       "    </tr>\n",
       "  </tbody>\n",
       "</table>\n",
       "</div>"
      ],
      "text/plain": [
       "              Date  Sales  CompetitionDistance  Promo2  DiffTimeMonths  \\\n",
       "1016326 2015-07-27  10712            -0.859441       1       -0.950938   \n",
       "1017033 2015-07-28   8093            -0.859441       1       -0.950938   \n",
       "1017014 2015-07-29   7661            -0.859441       1       -0.950938   \n",
       "1016992 2015-07-30   8405            -0.859441       1       -0.950938   \n",
       "1016970 2015-07-31   8680            -0.859441       1       -0.950938   \n",
       "\n",
       "         DiffPromoTimeMonths     Lag_1     Lag_7  Rolling_Mean_7  \\\n",
       "1016326             0.070423 -1.000000 -0.707203       -0.656117   \n",
       "1017033             0.070423 -0.484393 -0.755770       -0.611102   \n",
       "1017014             0.070423 -0.610455 -0.742870       -0.581743   \n",
       "1016992             0.070423 -0.631248 -0.703978       -0.559191   \n",
       "1016970             0.070423 -0.595437 -0.720055       -0.537262   \n",
       "\n",
       "         DayOfWeek_encoded  Promo_encoded  StateHoliday_encoded  \\\n",
       "1016326                  1              1                     3   \n",
       "1017033                  5              1                     3   \n",
       "1017014                  6              1                     3   \n",
       "1016992                  4              1                     3   \n",
       "1016970                  0              1                     3   \n",
       "\n",
       "         SchoolHoliday_encoded  StoreType_encoded  Assortment_encoded  \n",
       "1016326                      1                  3                   1  \n",
       "1017033                      1                  3                   1  \n",
       "1017014                      1                  3                   1  \n",
       "1016992                      1                  3                   1  \n",
       "1016970                      1                  3                   1  "
      ]
     },
     "execution_count": 914,
     "metadata": {},
     "output_type": "execute_result"
    }
   ],
   "source": [
    "trainSet.tail()"
   ]
  },
  {
   "cell_type": "markdown",
   "id": "e5cdeb80-e260-4834-94c0-5e62b0131e99",
   "metadata": {},
   "source": [
    "Next steps:\n",
    "\n",
    "- Run MLP with whole data\n",
    "- Iterative predictions (forecasting_testSet is ready)."
   ]
  }
 ],
 "metadata": {
  "kernelspec": {
   "display_name": "Python 3 (ipykernel)",
   "language": "python",
   "name": "python3"
  },
  "language_info": {
   "codemirror_mode": {
    "name": "ipython",
    "version": 3
   },
   "file_extension": ".py",
   "mimetype": "text/x-python",
   "name": "python",
   "nbconvert_exporter": "python",
   "pygments_lexer": "ipython3",
   "version": "3.12.4"
  }
 },
 "nbformat": 4,
 "nbformat_minor": 5
}
